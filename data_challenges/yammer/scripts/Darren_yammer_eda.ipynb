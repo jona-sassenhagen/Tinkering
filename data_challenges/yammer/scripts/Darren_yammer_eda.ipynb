{
 "cells": [
  {
   "cell_type": "markdown",
   "metadata": {},
   "source": [
    "# Yammer exploratory analysis\n",
    "\n",
    "### *Darren Tanner*\n",
    "\n",
    "## Background\n",
    "\n",
    "The goal of this data analysis is to identify causes of a dip in customer engagement on Yammer in the month of August. The plot in the problem prompt shows generally increasing user engagment, operationalized as the number of users who made some sort of server call in a given week, between May 1 and August 1. This is followed by a decline in user engagement during the month of August.\n",
    "\n",
    "### Initial Hypotheses for Decline\n",
    "\n",
    "1. **Yearly cyclic decline**: One possibility is that this is a yearly decline in user engagement due to a 'summer slump' -- i.e., users are going on vacation. Looking at a longer time series (e.g., multiple years) and accounting for seasonal/cyclic changes would be illustrative. \n",
    "\n",
    "    *Update after data exploration:* Unfortunately this approach (comparing yearly cycles to check whether August typically shows a downtick in engagement) is not possible with the data provided. Only engagement events between the end of April 2014 and end of August 2014 are available.\n",
    "     \n",
    "\n",
    "2. **Drop off in new users**: A change by marketing/outreach led to fewer new users coming to the platform.\n",
    "\n",
    "3. **Sub-service bug**: Another possibility is that one of the sub-services available on Yammer (e.g., email, search, interactions, etc.) had a performance issue.\n",
    "\n",
    "4. **Device issue**: Some device types (e.g., phones or computers) experienced login issues.\n",
    "\n",
    "### Data Analysis Summary\n",
    "\n",
    "The exploratory analysis below showed that the downtick in user engagements was primarily found in two areas:\n",
    "\n",
    "1. Smartphones (and not other devices)\n",
    "2. Email clickthroughs (and not email opens)\n",
    "\n",
    "### Recommendations\n",
    "\n",
    "This is possibly attributable to scheduled vacations in August. An analysis of yearly cycles would possibly shed light on this issue. \n",
    "\n",
    "More immediately:\n",
    "1. The mobile platform team should identify whether any software glitches impacting use of the platform with mobile phones. \n",
    "2. The email team should identify whethere there were any content changes in the weekly digests that may have adversely affected engagement.\n",
    "\n",
    "## Data import and initial exploration\n"
   ]
  },
  {
   "cell_type": "code",
   "execution_count": 17,
   "metadata": {},
   "outputs": [],
   "source": [
    "# Load packages\n",
    "import pandas as pd\n",
    "import matplotlib.pyplot as plt\n",
    "import seaborn as sns\n",
    "import altair as alt"
   ]
  },
  {
   "cell_type": "code",
   "execution_count": 72,
   "metadata": {},
   "outputs": [],
   "source": [
    "#Load data\n",
    "emails = pd.read_csv('../raw_data/yammer_emails.csv')\n",
    "events = pd.read_csv('../raw_data/yammer_events.csv')\n",
    "users = pd.read_csv('../raw_data/yammer_users.csv')\n",
    "\n",
    "# Convert date columns to datetime\n",
    "emails.occurred_at = pd.to_datetime(emails.occurred_at, infer_datetime_format=True)\n",
    "events.occurred_at = pd.to_datetime(events.occurred_at, infer_datetime_format=True)\n",
    "users.created_at = pd.to_datetime(users.created_at, infer_datetime_format=True)\n",
    "users.activated_at = pd.to_datetime(users.activated_at, infer_datetime_format=True)"
   ]
  },
  {
   "cell_type": "code",
   "execution_count": 73,
   "metadata": {},
   "outputs": [],
   "source": [
    "# Create week bins for aggregating\n",
    "emails['week'] = emails.occurred_at.dt.to_period('W').dt.to_timestamp()\n",
    "events['week'] = events.occurred_at.dt.to_period('W').dt.to_timestamp()\n",
    "users['created_week'] = users.created_at.dt.to_period('W').dt.to_timestamp()\n",
    "users['activated_week'] = users.activated_at.dt.to_period('W').dt.to_timestamp()\n",
    "\n",
    "# Split events into engagement and signup events dfs\n",
    "engagement_events = events[events.event_type == 'engagement']\n",
    "signup_events = events[events.event_type == 'signup_flow']"
   ]
  },
  {
   "cell_type": "code",
   "execution_count": 4,
   "metadata": {},
   "outputs": [],
   "source": [
    "# Groupby week, and count the number of unique userIDs to plot #\n",
    "# engaged users per week, to eventually re-create plot from prompt\n",
    "weekly_engagements = engagement_events.groupby('week').user_id.nunique().to_frame()\n",
    "weekly_engagements['week'] = weekly_engagements.index\n",
    "weekly_engagements.columns = ['Engagement Count', 'Week']"
   ]
  },
  {
   "cell_type": "markdown",
   "metadata": {},
   "source": [
    "### Plot engagement time series"
   ]
  },
  {
   "cell_type": "code",
   "execution_count": 5,
   "metadata": {},
   "outputs": [
    {
     "data": {
      "application/vnd.vegalite.v2+json": {
       "$schema": "https://vega.github.io/schema/vega-lite/v2.6.0.json",
       "config": {
        "view": {
         "height": 300,
         "width": 400
        }
       },
       "data": {
        "name": "data-f64bc2ca54fce85143c2e2fe620880d8"
       },
       "datasets": {
        "data-f64bc2ca54fce85143c2e2fe620880d8": [
         {
          "Engagement Count": 701,
          "Week": "2014-04-28T00:00:00"
         },
         {
          "Engagement Count": 1054,
          "Week": "2014-05-05T00:00:00"
         },
         {
          "Engagement Count": 1094,
          "Week": "2014-05-12T00:00:00"
         },
         {
          "Engagement Count": 1147,
          "Week": "2014-05-19T00:00:00"
         },
         {
          "Engagement Count": 1113,
          "Week": "2014-05-26T00:00:00"
         },
         {
          "Engagement Count": 1173,
          "Week": "2014-06-02T00:00:00"
         },
         {
          "Engagement Count": 1219,
          "Week": "2014-06-09T00:00:00"
         },
         {
          "Engagement Count": 1263,
          "Week": "2014-06-16T00:00:00"
         },
         {
          "Engagement Count": 1249,
          "Week": "2014-06-23T00:00:00"
         },
         {
          "Engagement Count": 1271,
          "Week": "2014-06-30T00:00:00"
         },
         {
          "Engagement Count": 1355,
          "Week": "2014-07-07T00:00:00"
         },
         {
          "Engagement Count": 1345,
          "Week": "2014-07-14T00:00:00"
         },
         {
          "Engagement Count": 1363,
          "Week": "2014-07-21T00:00:00"
         },
         {
          "Engagement Count": 1443,
          "Week": "2014-07-28T00:00:00"
         },
         {
          "Engagement Count": 1266,
          "Week": "2014-08-04T00:00:00"
         },
         {
          "Engagement Count": 1215,
          "Week": "2014-08-11T00:00:00"
         },
         {
          "Engagement Count": 1203,
          "Week": "2014-08-18T00:00:00"
         },
         {
          "Engagement Count": 1194,
          "Week": "2014-08-25T00:00:00"
         }
        ]
       },
       "encoding": {
        "x": {
         "field": "Week",
         "type": "temporal"
        },
        "y": {
         "field": "Engagement Count",
         "type": "quantitative"
        }
       },
       "mark": "line"
      },
      "image/png": "[encoded data removed]",
      "text/plain": [
       "<VegaLite 2 object>\n",
       "\n",
       "If you see this message, it means the renderer has not been properly enabled\n",
       "for the frontend that you are using. For more information, see\n",
       "https://altair-viz.github.io/user_guide/troubleshooting.html\n"
      ]
     },
     "execution_count": 5,
     "metadata": {},
     "output_type": "execute_result"
    }
   ],
   "source": [
    "alt.Chart(weekly_engagements).mark_line().encode(\n",
    "    x='Week',\n",
    "    y='Engagement Count'\n",
    ")"
   ]
  },
  {
   "cell_type": "markdown",
   "metadata": {},
   "source": [
    "\n",
    "Above we see the downtick in August. Unfortunately the approach I had planned to take in my Hypothesis #1 is not possible to carry out, since the available data only span May-August 2014, and do not include previous years.  "
   ]
  },
  {
   "cell_type": "markdown",
   "metadata": {},
   "source": [
    "### Engagement by user type"
   ]
  },
  {
   "cell_type": "markdown",
   "metadata": {},
   "source": [
    "In Hypothesis #2 I conjectured that the downtick may be related to expiring free trials, and that existing users whose free trials were expiring were responsible for the downtick. If this is the case, I would expect to see the downtick in existing users (plotted above), but no downtick in new users activity.\n",
    "\n",
    "Note that seeing a dissociation like this would not necessarily implicate free trials expiring. Confirming this would require more data and information from the marketing/outreach department who administer the free trials. But seeing a lack of change in new user signups would be informative that something in the product is driving away existing users."
   ]
  },
  {
   "cell_type": "code",
   "execution_count": 7,
   "metadata": {},
   "outputs": [
    {
     "data": {
      "text/plain": [
       "array(['login', 'home_page', 'like_message', 'view_inbox', 'search_run',\n",
       "       'send_message', 'search_autocomplete', 'search_click_result_10',\n",
       "       'create_user', 'enter_email', 'enter_info', 'complete_signup',\n",
       "       'search_click_result_7', 'search_click_result_8',\n",
       "       'search_click_result_1', 'search_click_result_3',\n",
       "       'search_click_result_2', 'search_click_result_5',\n",
       "       'search_click_result_6', 'search_click_result_9',\n",
       "       'search_click_result_4'], dtype=object)"
      ]
     },
     "execution_count": 7,
     "metadata": {},
     "output_type": "execute_result"
    }
   ],
   "source": [
    "# Get signup activity, and join it with the existing user engagement for plotting\n",
    "weekly_signups = signup_events.groupby('week').user_id.nunique().to_frame()\n",
    "weekly_signups['week'] = weekly_signups.index\n",
    "weekly_signups.columns = ['Engagement Count', 'Week']\n",
    "\n",
    "weekly_engagements['User Type'] = 'Existing'\n",
    "weekly_signups['User Type'] = 'New'\n",
    "\n",
    "weekly_activity = pd.concat([weekly_engagements, weekly_signups], axis = 0)\n",
    "events.event_name.unique()"
   ]
  },
  {
   "cell_type": "code",
   "execution_count": 8,
   "metadata": {},
   "outputs": [
    {
     "data": {
      "application/vnd.vegalite.v2+json": {
       "$schema": "https://vega.github.io/schema/vega-lite/v2.6.0.json",
       "config": {
        "view": {
         "height": 300,
         "width": 400
        }
       },
       "data": {
        "name": "data-4d214f288ea78706cf8fbc583b3babc0"
       },
       "datasets": {
        "data-4d214f288ea78706cf8fbc583b3babc0": [
         {
          "Engagement Count": 701,
          "User Type": "Existing",
          "Week": "2014-04-28T00:00:00"
         },
         {
          "Engagement Count": 1054,
          "User Type": "Existing",
          "Week": "2014-05-05T00:00:00"
         },
         {
          "Engagement Count": 1094,
          "User Type": "Existing",
          "Week": "2014-05-12T00:00:00"
         },
         {
          "Engagement Count": 1147,
          "User Type": "Existing",
          "Week": "2014-05-19T00:00:00"
         },
         {
          "Engagement Count": 1113,
          "User Type": "Existing",
          "Week": "2014-05-26T00:00:00"
         },
         {
          "Engagement Count": 1173,
          "User Type": "Existing",
          "Week": "2014-06-02T00:00:00"
         },
         {
          "Engagement Count": 1219,
          "User Type": "Existing",
          "Week": "2014-06-09T00:00:00"
         },
         {
          "Engagement Count": 1263,
          "User Type": "Existing",
          "Week": "2014-06-16T00:00:00"
         },
         {
          "Engagement Count": 1249,
          "User Type": "Existing",
          "Week": "2014-06-23T00:00:00"
         },
         {
          "Engagement Count": 1271,
          "User Type": "Existing",
          "Week": "2014-06-30T00:00:00"
         },
         {
          "Engagement Count": 1355,
          "User Type": "Existing",
          "Week": "2014-07-07T00:00:00"
         },
         {
          "Engagement Count": 1345,
          "User Type": "Existing",
          "Week": "2014-07-14T00:00:00"
         },
         {
          "Engagement Count": 1363,
          "User Type": "Existing",
          "Week": "2014-07-21T00:00:00"
         },
         {
          "Engagement Count": 1443,
          "User Type": "Existing",
          "Week": "2014-07-28T00:00:00"
         },
         {
          "Engagement Count": 1266,
          "User Type": "Existing",
          "Week": "2014-08-04T00:00:00"
         },
         {
          "Engagement Count": 1215,
          "User Type": "Existing",
          "Week": "2014-08-11T00:00:00"
         },
         {
          "Engagement Count": 1203,
          "User Type": "Existing",
          "Week": "2014-08-18T00:00:00"
         },
         {
          "Engagement Count": 1194,
          "User Type": "Existing",
          "Week": "2014-08-25T00:00:00"
         },
         {
          "Engagement Count": 171,
          "User Type": "New",
          "Week": "2014-04-28T00:00:00"
         },
         {
          "Engagement Count": 350,
          "User Type": "New",
          "Week": "2014-05-05T00:00:00"
         },
         {
          "Engagement Count": 362,
          "User Type": "New",
          "Week": "2014-05-12T00:00:00"
         },
         {
          "Engagement Count": 371,
          "User Type": "New",
          "Week": "2014-05-19T00:00:00"
         },
         {
          "Engagement Count": 366,
          "User Type": "New",
          "Week": "2014-05-26T00:00:00"
         },
         {
          "Engagement Count": 390,
          "User Type": "New",
          "Week": "2014-06-02T00:00:00"
         },
         {
          "Engagement Count": 413,
          "User Type": "New",
          "Week": "2014-06-09T00:00:00"
         },
         {
          "Engagement Count": 421,
          "User Type": "New",
          "Week": "2014-06-16T00:00:00"
         },
         {
          "Engagement Count": 404,
          "User Type": "New",
          "Week": "2014-06-23T00:00:00"
         },
         {
          "Engagement Count": 405,
          "User Type": "New",
          "Week": "2014-06-30T00:00:00"
         },
         {
          "Engagement Count": 424,
          "User Type": "New",
          "Week": "2014-07-07T00:00:00"
         },
         {
          "Engagement Count": 426,
          "User Type": "New",
          "Week": "2014-07-14T00:00:00"
         },
         {
          "Engagement Count": 458,
          "User Type": "New",
          "Week": "2014-07-21T00:00:00"
         },
         {
          "Engagement Count": 476,
          "User Type": "New",
          "Week": "2014-07-28T00:00:00"
         },
         {
          "Engagement Count": 406,
          "User Type": "New",
          "Week": "2014-08-04T00:00:00"
         },
         {
          "Engagement Count": 473,
          "User Type": "New",
          "Week": "2014-08-11T00:00:00"
         },
         {
          "Engagement Count": 468,
          "User Type": "New",
          "Week": "2014-08-18T00:00:00"
         },
         {
          "Engagement Count": 514,
          "User Type": "New",
          "Week": "2014-08-25T00:00:00"
         }
        ]
       },
       "encoding": {
        "color": {
         "field": "User Type",
         "type": "nominal"
        },
        "x": {
         "field": "Week",
         "type": "temporal"
        },
        "y": {
         "field": "Engagement Count",
         "type": "quantitative"
        }
       },
       "mark": "line"
      },
      "image/png": "[encoded data removed]",
      "text/plain": [
       "<VegaLite 2 object>\n",
       "\n",
       "If you see this message, it means the renderer has not been properly enabled\n",
       "for the frontend that you are using. For more information, see\n",
       "https://altair-viz.github.io/user_guide/troubleshooting.html\n"
      ]
     },
     "execution_count": 8,
     "metadata": {},
     "output_type": "execute_result"
    }
   ],
   "source": [
    "# Plot both unique signup engagements and existing user engagements\n",
    "alt.Chart(weekly_activity).mark_line().encode(\n",
    "    x='Week',\n",
    "    y='Engagement Count',\n",
    "    color='User Type'\n",
    ")"
   ]
  },
  {
   "cell_type": "markdown",
   "metadata": {},
   "source": [
    "Although existing user engagements decrease in August, new user engagements do not. The downtick is not attributable to slowing new user engagements."
   ]
  },
  {
   "cell_type": "markdown",
   "metadata": {},
   "source": [
    "### Engagements by type"
   ]
  },
  {
   "cell_type": "markdown",
   "metadata": {},
   "source": [
    "First, look at the trajectory of different activity types across the time interval. If the decrease is due to specific activity types, that will help narrow the search space."
   ]
  },
  {
   "cell_type": "code",
   "execution_count": 9,
   "metadata": {},
   "outputs": [],
   "source": [
    "# Get just the 'engagement' type events (no signup) and get rid of search events\n",
    "no_search = events[~events.event_name.str.startswith('search')]\n",
    "no_search_signup = no_search[~no_search.event_type.str.startswith('sign')]\n",
    "\n",
    "# Aggregate by week and look for trends\n",
    "weekly_events = no_search_signup.groupby(['week', 'event_name']).user_id.nunique().to_frame().reset_index()\n",
    "weekly_events.columns = ['Week', 'Event Type', 'Count']"
   ]
  },
  {
   "cell_type": "code",
   "execution_count": 10,
   "metadata": {},
   "outputs": [
    {
     "data": {
      "application/vnd.vegalite.v2+json": {
       "$schema": "https://vega.github.io/schema/vega-lite/v2.6.0.json",
       "config": {
        "view": {
         "height": 300,
         "width": 400
        }
       },
       "data": {
        "name": "data-221de3471584f0147e4730e7bee882b2"
       },
       "datasets": {
        "data-221de3471584f0147e4730e7bee882b2": [
         {
          "Count": 646,
          "Event Type": "home_page",
          "Week": "2014-04-28T00:00:00"
         },
         {
          "Count": 564,
          "Event Type": "like_message",
          "Week": "2014-04-28T00:00:00"
         },
         {
          "Count": 701,
          "Event Type": "login",
          "Week": "2014-04-28T00:00:00"
         },
         {
          "Count": 433,
          "Event Type": "send_message",
          "Week": "2014-04-28T00:00:00"
         },
         {
          "Count": 532,
          "Event Type": "view_inbox",
          "Week": "2014-04-28T00:00:00"
         },
         {
          "Count": 972,
          "Event Type": "home_page",
          "Week": "2014-05-05T00:00:00"
         },
         {
          "Count": 874,
          "Event Type": "like_message",
          "Week": "2014-05-05T00:00:00"
         },
         {
          "Count": 1054,
          "Event Type": "login",
          "Week": "2014-05-05T00:00:00"
         },
         {
          "Count": 698,
          "Event Type": "send_message",
          "Week": "2014-05-05T00:00:00"
         },
         {
          "Count": 843,
          "Event Type": "view_inbox",
          "Week": "2014-05-05T00:00:00"
         },
         {
          "Count": 1015,
          "Event Type": "home_page",
          "Week": "2014-05-12T00:00:00"
         },
         {
          "Count": 888,
          "Event Type": "like_message",
          "Week": "2014-05-12T00:00:00"
         },
         {
          "Count": 1094,
          "Event Type": "login",
          "Week": "2014-05-12T00:00:00"
         },
         {
          "Count": 715,
          "Event Type": "send_message",
          "Week": "2014-05-12T00:00:00"
         },
         {
          "Count": 850,
          "Event Type": "view_inbox",
          "Week": "2014-05-12T00:00:00"
         },
         {
          "Count": 1056,
          "Event Type": "home_page",
          "Week": "2014-05-19T00:00:00"
         },
         {
          "Count": 927,
          "Event Type": "like_message",
          "Week": "2014-05-19T00:00:00"
         },
         {
          "Count": 1147,
          "Event Type": "login",
          "Week": "2014-05-19T00:00:00"
         },
         {
          "Count": 761,
          "Event Type": "send_message",
          "Week": "2014-05-19T00:00:00"
         },
         {
          "Count": 877,
          "Event Type": "view_inbox",
          "Week": "2014-05-19T00:00:00"
         },
         {
          "Count": 1034,
          "Event Type": "home_page",
          "Week": "2014-05-26T00:00:00"
         },
         {
          "Count": 898,
          "Event Type": "like_message",
          "Week": "2014-05-26T00:00:00"
         },
         {
          "Count": 1113,
          "Event Type": "login",
          "Week": "2014-05-26T00:00:00"
         },
         {
          "Count": 720,
          "Event Type": "send_message",
          "Week": "2014-05-26T00:00:00"
         },
         {
          "Count": 897,
          "Event Type": "view_inbox",
          "Week": "2014-05-26T00:00:00"
         },
         {
          "Count": 1089,
          "Event Type": "home_page",
          "Week": "2014-06-02T00:00:00"
         },
         {
          "Count": 942,
          "Event Type": "like_message",
          "Week": "2014-06-02T00:00:00"
         },
         {
          "Count": 1173,
          "Event Type": "login",
          "Week": "2014-06-02T00:00:00"
         },
         {
          "Count": 773,
          "Event Type": "send_message",
          "Week": "2014-06-02T00:00:00"
         },
         {
          "Count": 922,
          "Event Type": "view_inbox",
          "Week": "2014-06-02T00:00:00"
         },
         {
          "Count": 1116,
          "Event Type": "home_page",
          "Week": "2014-06-09T00:00:00"
         },
         {
          "Count": 972,
          "Event Type": "like_message",
          "Week": "2014-06-09T00:00:00"
         },
         {
          "Count": 1219,
          "Event Type": "login",
          "Week": "2014-06-09T00:00:00"
         },
         {
          "Count": 788,
          "Event Type": "send_message",
          "Week": "2014-06-09T00:00:00"
         },
         {
          "Count": 968,
          "Event Type": "view_inbox",
          "Week": "2014-06-09T00:00:00"
         },
         {
          "Count": 1164,
          "Event Type": "home_page",
          "Week": "2014-06-16T00:00:00"
         },
         {
          "Count": 999,
          "Event Type": "like_message",
          "Week": "2014-06-16T00:00:00"
         },
         {
          "Count": 1262,
          "Event Type": "login",
          "Week": "2014-06-16T00:00:00"
         },
         {
          "Count": 836,
          "Event Type": "send_message",
          "Week": "2014-06-16T00:00:00"
         },
         {
          "Count": 1000,
          "Event Type": "view_inbox",
          "Week": "2014-06-16T00:00:00"
         },
         {
          "Count": 1158,
          "Event Type": "home_page",
          "Week": "2014-06-23T00:00:00"
         },
         {
          "Count": 995,
          "Event Type": "like_message",
          "Week": "2014-06-23T00:00:00"
         },
         {
          "Count": 1249,
          "Event Type": "login",
          "Week": "2014-06-23T00:00:00"
         },
         {
          "Count": 813,
          "Event Type": "send_message",
          "Week": "2014-06-23T00:00:00"
         },
         {
          "Count": 972,
          "Event Type": "view_inbox",
          "Week": "2014-06-23T00:00:00"
         },
         {
          "Count": 1177,
          "Event Type": "home_page",
          "Week": "2014-06-30T00:00:00"
         },
         {
          "Count": 1002,
          "Event Type": "like_message",
          "Week": "2014-06-30T00:00:00"
         },
         {
          "Count": 1271,
          "Event Type": "login",
          "Week": "2014-06-30T00:00:00"
         },
         {
          "Count": 803,
          "Event Type": "send_message",
          "Week": "2014-06-30T00:00:00"
         },
         {
          "Count": 992,
          "Event Type": "view_inbox",
          "Week": "2014-06-30T00:00:00"
         },
         {
          "Count": 1270,
          "Event Type": "home_page",
          "Week": "2014-07-07T00:00:00"
         },
         {
          "Count": 1085,
          "Event Type": "like_message",
          "Week": "2014-07-07T00:00:00"
         },
         {
          "Count": 1355,
          "Event Type": "login",
          "Week": "2014-07-07T00:00:00"
         },
         {
          "Count": 871,
          "Event Type": "send_message",
          "Week": "2014-07-07T00:00:00"
         },
         {
          "Count": 1085,
          "Event Type": "view_inbox",
          "Week": "2014-07-07T00:00:00"
         },
         {
          "Count": 1243,
          "Event Type": "home_page",
          "Week": "2014-07-14T00:00:00"
         },
         {
          "Count": 1099,
          "Event Type": "like_message",
          "Week": "2014-07-14T00:00:00"
         },
         {
          "Count": 1345,
          "Event Type": "login",
          "Week": "2014-07-14T00:00:00"
         },
         {
          "Count": 867,
          "Event Type": "send_message",
          "Week": "2014-07-14T00:00:00"
         },
         {
          "Count": 1069,
          "Event Type": "view_inbox",
          "Week": "2014-07-14T00:00:00"
         },
         {
          "Count": 1246,
          "Event Type": "home_page",
          "Week": "2014-07-21T00:00:00"
         },
         {
          "Count": 1096,
          "Event Type": "like_message",
          "Week": "2014-07-21T00:00:00"
         },
         {
          "Count": 1363,
          "Event Type": "login",
          "Week": "2014-07-21T00:00:00"
         },
         {
          "Count": 856,
          "Event Type": "send_message",
          "Week": "2014-07-21T00:00:00"
         },
         {
          "Count": 1079,
          "Event Type": "view_inbox",
          "Week": "2014-07-21T00:00:00"
         },
         {
          "Count": 1341,
          "Event Type": "home_page",
          "Week": "2014-07-28T00:00:00"
         },
         {
          "Count": 1133,
          "Event Type": "like_message",
          "Week": "2014-07-28T00:00:00"
         },
         {
          "Count": 1442,
          "Event Type": "login",
          "Week": "2014-07-28T00:00:00"
         },
         {
          "Count": 912,
          "Event Type": "send_message",
          "Week": "2014-07-28T00:00:00"
         },
         {
          "Count": 1125,
          "Event Type": "view_inbox",
          "Week": "2014-07-28T00:00:00"
         },
         {
          "Count": 1169,
          "Event Type": "home_page",
          "Week": "2014-08-04T00:00:00"
         },
         {
          "Count": 1031,
          "Event Type": "like_message",
          "Week": "2014-08-04T00:00:00"
         },
         {
          "Count": 1266,
          "Event Type": "login",
          "Week": "2014-08-04T00:00:00"
         },
         {
          "Count": 808,
          "Event Type": "send_message",
          "Week": "2014-08-04T00:00:00"
         },
         {
          "Count": 998,
          "Event Type": "view_inbox",
          "Week": "2014-08-04T00:00:00"
         },
         {
          "Count": 1111,
          "Event Type": "home_page",
          "Week": "2014-08-11T00:00:00"
         },
         {
          "Count": 946,
          "Event Type": "like_message",
          "Week": "2014-08-11T00:00:00"
         },
         {
          "Count": 1215,
          "Event Type": "login",
          "Week": "2014-08-11T00:00:00"
         },
         {
          "Count": 743,
          "Event Type": "send_message",
          "Week": "2014-08-11T00:00:00"
         },
         {
          "Count": 939,
          "Event Type": "view_inbox",
          "Week": "2014-08-11T00:00:00"
         },
         {
          "Count": 1101,
          "Event Type": "home_page",
          "Week": "2014-08-18T00:00:00"
         },
         {
          "Count": 952,
          "Event Type": "like_message",
          "Week": "2014-08-18T00:00:00"
         },
         {
          "Count": 1203,
          "Event Type": "login",
          "Week": "2014-08-18T00:00:00"
         },
         {
          "Count": 751,
          "Event Type": "send_message",
          "Week": "2014-08-18T00:00:00"
         },
         {
          "Count": 939,
          "Event Type": "view_inbox",
          "Week": "2014-08-18T00:00:00"
         },
         {
          "Count": 1100,
          "Event Type": "home_page",
          "Week": "2014-08-25T00:00:00"
         },
         {
          "Count": 906,
          "Event Type": "like_message",
          "Week": "2014-08-25T00:00:00"
         },
         {
          "Count": 1194,
          "Event Type": "login",
          "Week": "2014-08-25T00:00:00"
         },
         {
          "Count": 746,
          "Event Type": "send_message",
          "Week": "2014-08-25T00:00:00"
         },
         {
          "Count": 925,
          "Event Type": "view_inbox",
          "Week": "2014-08-25T00:00:00"
         }
        ]
       },
       "encoding": {
        "color": {
         "field": "Event Type",
         "type": "nominal"
        },
        "x": {
         "field": "Week",
         "type": "temporal"
        },
        "y": {
         "field": "Count",
         "type": "quantitative"
        }
       },
       "mark": "line"
      },
      "image/png": "[encoded data removed]",
      "text/plain": [
       "<VegaLite 2 object>\n",
       "\n",
       "If you see this message, it means the renderer has not been properly enabled\n",
       "for the frontend that you are using. For more information, see\n",
       "https://altair-viz.github.io/user_guide/troubleshooting.html\n"
      ]
     },
     "execution_count": 10,
     "metadata": {},
     "output_type": "execute_result"
    }
   ],
   "source": [
    "alt.Chart(weekly_events).mark_line().encode(\n",
    "    x='Week',\n",
    "    y='Count',\n",
    "    color='Event Type'\n",
    ")"
   ]
  },
  {
   "cell_type": "markdown",
   "metadata": {},
   "source": [
    "These activities all showed generally equal downtick sizes. Plot search activities now. "
   ]
  },
  {
   "cell_type": "code",
   "execution_count": 11,
   "metadata": {},
   "outputs": [],
   "source": [
    "# Get search activities that I excluded above\n",
    "searches = events[events.event_name.str.startswith('sear')]\n",
    "searches = searches.groupby(['week', 'event_name']).user_id.nunique().to_frame().reset_index()\n",
    "searches.columns = ['Week', 'Event Type', 'Count']"
   ]
  },
  {
   "cell_type": "code",
   "execution_count": 12,
   "metadata": {},
   "outputs": [
    {
     "data": {
      "application/vnd.vegalite.v2+json": {
       "$schema": "https://vega.github.io/schema/vega-lite/v2.6.0.json",
       "config": {
        "view": {
         "height": 300,
         "width": 400
        }
       },
       "data": {
        "name": "data-818e53cd42f6202f631fef2eed2c615f"
       },
       "datasets": {
        "data-818e53cd42f6202f631fef2eed2c615f": [
         {
          "Count": 200,
          "Event Type": "search_autocomplete",
          "Week": "2014-04-28T00:00:00"
         },
         {
          "Count": 26,
          "Event Type": "search_click_result_1",
          "Week": "2014-04-28T00:00:00"
         },
         {
          "Count": 12,
          "Event Type": "search_click_result_10",
          "Week": "2014-04-28T00:00:00"
         },
         {
          "Count": 28,
          "Event Type": "search_click_result_2",
          "Week": "2014-04-28T00:00:00"
         },
         {
          "Count": 27,
          "Event Type": "search_click_result_3",
          "Week": "2014-04-28T00:00:00"
         },
         {
          "Count": 31,
          "Event Type": "search_click_result_4",
          "Week": "2014-04-28T00:00:00"
         },
         {
          "Count": 20,
          "Event Type": "search_click_result_5",
          "Week": "2014-04-28T00:00:00"
         },
         {
          "Count": 23,
          "Event Type": "search_click_result_6",
          "Week": "2014-04-28T00:00:00"
         },
         {
          "Count": 24,
          "Event Type": "search_click_result_7",
          "Week": "2014-04-28T00:00:00"
         },
         {
          "Count": 10,
          "Event Type": "search_click_result_8",
          "Week": "2014-04-28T00:00:00"
         },
         {
          "Count": 20,
          "Event Type": "search_click_result_9",
          "Week": "2014-04-28T00:00:00"
         },
         {
          "Count": 86,
          "Event Type": "search_run",
          "Week": "2014-04-28T00:00:00"
         },
         {
          "Count": 372,
          "Event Type": "search_autocomplete",
          "Week": "2014-05-05T00:00:00"
         },
         {
          "Count": 48,
          "Event Type": "search_click_result_1",
          "Week": "2014-05-05T00:00:00"
         },
         {
          "Count": 22,
          "Event Type": "search_click_result_10",
          "Week": "2014-05-05T00:00:00"
         },
         {
          "Count": 54,
          "Event Type": "search_click_result_2",
          "Week": "2014-05-05T00:00:00"
         },
         {
          "Count": 42,
          "Event Type": "search_click_result_3",
          "Week": "2014-05-05T00:00:00"
         },
         {
          "Count": 50,
          "Event Type": "search_click_result_4",
          "Week": "2014-05-05T00:00:00"
         },
         {
          "Count": 43,
          "Event Type": "search_click_result_5",
          "Week": "2014-05-05T00:00:00"
         },
         {
          "Count": 36,
          "Event Type": "search_click_result_6",
          "Week": "2014-05-05T00:00:00"
         },
         {
          "Count": 27,
          "Event Type": "search_click_result_7",
          "Week": "2014-05-05T00:00:00"
         },
         {
          "Count": 26,
          "Event Type": "search_click_result_8",
          "Week": "2014-05-05T00:00:00"
         },
         {
          "Count": 37,
          "Event Type": "search_click_result_9",
          "Week": "2014-05-05T00:00:00"
         },
         {
          "Count": 167,
          "Event Type": "search_run",
          "Week": "2014-05-05T00:00:00"
         },
         {
          "Count": 402,
          "Event Type": "search_autocomplete",
          "Week": "2014-05-12T00:00:00"
         },
         {
          "Count": 45,
          "Event Type": "search_click_result_1",
          "Week": "2014-05-12T00:00:00"
         },
         {
          "Count": 16,
          "Event Type": "search_click_result_10",
          "Week": "2014-05-12T00:00:00"
         },
         {
          "Count": 46,
          "Event Type": "search_click_result_2",
          "Week": "2014-05-12T00:00:00"
         },
         {
          "Count": 36,
          "Event Type": "search_click_result_3",
          "Week": "2014-05-12T00:00:00"
         },
         {
          "Count": 46,
          "Event Type": "search_click_result_4",
          "Week": "2014-05-12T00:00:00"
         },
         {
          "Count": 35,
          "Event Type": "search_click_result_5",
          "Week": "2014-05-12T00:00:00"
         },
         {
          "Count": 23,
          "Event Type": "search_click_result_6",
          "Week": "2014-05-12T00:00:00"
         },
         {
          "Count": 27,
          "Event Type": "search_click_result_7",
          "Week": "2014-05-12T00:00:00"
         },
         {
          "Count": 28,
          "Event Type": "search_click_result_8",
          "Week": "2014-05-12T00:00:00"
         },
         {
          "Count": 24,
          "Event Type": "search_click_result_9",
          "Week": "2014-05-12T00:00:00"
         },
         {
          "Count": 149,
          "Event Type": "search_run",
          "Week": "2014-05-12T00:00:00"
         },
         {
          "Count": 412,
          "Event Type": "search_autocomplete",
          "Week": "2014-05-19T00:00:00"
         },
         {
          "Count": 46,
          "Event Type": "search_click_result_1",
          "Week": "2014-05-19T00:00:00"
         },
         {
          "Count": 25,
          "Event Type": "search_click_result_10",
          "Week": "2014-05-19T00:00:00"
         },
         {
          "Count": 53,
          "Event Type": "search_click_result_2",
          "Week": "2014-05-19T00:00:00"
         },
         {
          "Count": 52,
          "Event Type": "search_click_result_3",
          "Week": "2014-05-19T00:00:00"
         },
         {
          "Count": 44,
          "Event Type": "search_click_result_4",
          "Week": "2014-05-19T00:00:00"
         },
         {
          "Count": 41,
          "Event Type": "search_click_result_5",
          "Week": "2014-05-19T00:00:00"
         },
         {
          "Count": 37,
          "Event Type": "search_click_result_6",
          "Week": "2014-05-19T00:00:00"
         },
         {
          "Count": 30,
          "Event Type": "search_click_result_7",
          "Week": "2014-05-19T00:00:00"
         },
         {
          "Count": 39,
          "Event Type": "search_click_result_8",
          "Week": "2014-05-19T00:00:00"
         },
         {
          "Count": 46,
          "Event Type": "search_click_result_9",
          "Week": "2014-05-19T00:00:00"
         },
         {
          "Count": 168,
          "Event Type": "search_run",
          "Week": "2014-05-19T00:00:00"
         },
         {
          "Count": 390,
          "Event Type": "search_autocomplete",
          "Week": "2014-05-26T00:00:00"
         },
         {
          "Count": 50,
          "Event Type": "search_click_result_1",
          "Week": "2014-05-26T00:00:00"
         },
         {
          "Count": 20,
          "Event Type": "search_click_result_10",
          "Week": "2014-05-26T00:00:00"
         },
         {
          "Count": 51,
          "Event Type": "search_click_result_2",
          "Week": "2014-05-26T00:00:00"
         },
         {
          "Count": 42,
          "Event Type": "search_click_result_3",
          "Week": "2014-05-26T00:00:00"
         },
         {
          "Count": 42,
          "Event Type": "search_click_result_4",
          "Week": "2014-05-26T00:00:00"
         },
         {
          "Count": 42,
          "Event Type": "search_click_result_5",
          "Week": "2014-05-26T00:00:00"
         },
         {
          "Count": 39,
          "Event Type": "search_click_result_6",
          "Week": "2014-05-26T00:00:00"
         },
         {
          "Count": 33,
          "Event Type": "search_click_result_7",
          "Week": "2014-05-26T00:00:00"
         },
         {
          "Count": 28,
          "Event Type": "search_click_result_8",
          "Week": "2014-05-26T00:00:00"
         },
         {
          "Count": 31,
          "Event Type": "search_click_result_9",
          "Week": "2014-05-26T00:00:00"
         },
         {
          "Count": 161,
          "Event Type": "search_run",
          "Week": "2014-05-26T00:00:00"
         },
         {
          "Count": 414,
          "Event Type": "search_autocomplete",
          "Week": "2014-06-02T00:00:00"
         },
         {
          "Count": 57,
          "Event Type": "search_click_result_1",
          "Week": "2014-06-02T00:00:00"
         },
         {
          "Count": 27,
          "Event Type": "search_click_result_10",
          "Week": "2014-06-02T00:00:00"
         },
         {
          "Count": 51,
          "Event Type": "search_click_result_2",
          "Week": "2014-06-02T00:00:00"
         },
         {
          "Count": 51,
          "Event Type": "search_click_result_3",
          "Week": "2014-06-02T00:00:00"
         },
         {
          "Count": 47,
          "Event Type": "search_click_result_4",
          "Week": "2014-06-02T00:00:00"
         },
         {
          "Count": 47,
          "Event Type": "search_click_result_5",
          "Week": "2014-06-02T00:00:00"
         },
         {
          "Count": 34,
          "Event Type": "search_click_result_6",
          "Week": "2014-06-02T00:00:00"
         },
         {
          "Count": 34,
          "Event Type": "search_click_result_7",
          "Week": "2014-06-02T00:00:00"
         },
         {
          "Count": 37,
          "Event Type": "search_click_result_8",
          "Week": "2014-06-02T00:00:00"
         },
         {
          "Count": 29,
          "Event Type": "search_click_result_9",
          "Week": "2014-06-02T00:00:00"
         },
         {
          "Count": 168,
          "Event Type": "search_run",
          "Week": "2014-06-02T00:00:00"
         },
         {
          "Count": 422,
          "Event Type": "search_autocomplete",
          "Week": "2014-06-09T00:00:00"
         },
         {
          "Count": 35,
          "Event Type": "search_click_result_1",
          "Week": "2014-06-09T00:00:00"
         },
         {
          "Count": 25,
          "Event Type": "search_click_result_10",
          "Week": "2014-06-09T00:00:00"
         },
         {
          "Count": 46,
          "Event Type": "search_click_result_2",
          "Week": "2014-06-09T00:00:00"
         },
         {
          "Count": 33,
          "Event Type": "search_click_result_3",
          "Week": "2014-06-09T00:00:00"
         },
         {
          "Count": 34,
          "Event Type": "search_click_result_4",
          "Week": "2014-06-09T00:00:00"
         },
         {
          "Count": 33,
          "Event Type": "search_click_result_5",
          "Week": "2014-06-09T00:00:00"
         },
         {
          "Count": 20,
          "Event Type": "search_click_result_6",
          "Week": "2014-06-09T00:00:00"
         },
         {
          "Count": 25,
          "Event Type": "search_click_result_7",
          "Week": "2014-06-09T00:00:00"
         },
         {
          "Count": 27,
          "Event Type": "search_click_result_8",
          "Week": "2014-06-09T00:00:00"
         },
         {
          "Count": 28,
          "Event Type": "search_click_result_9",
          "Week": "2014-06-09T00:00:00"
         },
         {
          "Count": 177,
          "Event Type": "search_run",
          "Week": "2014-06-09T00:00:00"
         },
         {
          "Count": 445,
          "Event Type": "search_autocomplete",
          "Week": "2014-06-16T00:00:00"
         },
         {
          "Count": 46,
          "Event Type": "search_click_result_1",
          "Week": "2014-06-16T00:00:00"
         },
         {
          "Count": 25,
          "Event Type": "search_click_result_10",
          "Week": "2014-06-16T00:00:00"
         },
         {
          "Count": 55,
          "Event Type": "search_click_result_2",
          "Week": "2014-06-16T00:00:00"
         },
         {
          "Count": 44,
          "Event Type": "search_click_result_3",
          "Week": "2014-06-16T00:00:00"
         },
         {
          "Count": 54,
          "Event Type": "search_click_result_4",
          "Week": "2014-06-16T00:00:00"
         },
         {
          "Count": 44,
          "Event Type": "search_click_result_5",
          "Week": "2014-06-16T00:00:00"
         },
         {
          "Count": 27,
          "Event Type": "search_click_result_6",
          "Week": "2014-06-16T00:00:00"
         },
         {
          "Count": 27,
          "Event Type": "search_click_result_7",
          "Week": "2014-06-16T00:00:00"
         },
         {
          "Count": 38,
          "Event Type": "search_click_result_8",
          "Week": "2014-06-16T00:00:00"
         },
         {
          "Count": 32,
          "Event Type": "search_click_result_9",
          "Week": "2014-06-16T00:00:00"
         },
         {
          "Count": 165,
          "Event Type": "search_run",
          "Week": "2014-06-16T00:00:00"
         },
         {
          "Count": 449,
          "Event Type": "search_autocomplete",
          "Week": "2014-06-23T00:00:00"
         },
         {
          "Count": 50,
          "Event Type": "search_click_result_1",
          "Week": "2014-06-23T00:00:00"
         },
         {
          "Count": 22,
          "Event Type": "search_click_result_10",
          "Week": "2014-06-23T00:00:00"
         },
         {
          "Count": 58,
          "Event Type": "search_click_result_2",
          "Week": "2014-06-23T00:00:00"
         },
         {
          "Count": 34,
          "Event Type": "search_click_result_3",
          "Week": "2014-06-23T00:00:00"
         },
         {
          "Count": 47,
          "Event Type": "search_click_result_4",
          "Week": "2014-06-23T00:00:00"
         },
         {
          "Count": 42,
          "Event Type": "search_click_result_5",
          "Week": "2014-06-23T00:00:00"
         },
         {
          "Count": 34,
          "Event Type": "search_click_result_6",
          "Week": "2014-06-23T00:00:00"
         },
         {
          "Count": 28,
          "Event Type": "search_click_result_7",
          "Week": "2014-06-23T00:00:00"
         },
         {
          "Count": 31,
          "Event Type": "search_click_result_8",
          "Week": "2014-06-23T00:00:00"
         },
         {
          "Count": 36,
          "Event Type": "search_click_result_9",
          "Week": "2014-06-23T00:00:00"
         },
         {
          "Count": 165,
          "Event Type": "search_run",
          "Week": "2014-06-23T00:00:00"
         },
         {
          "Count": 449,
          "Event Type": "search_autocomplete",
          "Week": "2014-06-30T00:00:00"
         },
         {
          "Count": 59,
          "Event Type": "search_click_result_1",
          "Week": "2014-06-30T00:00:00"
         },
         {
          "Count": 29,
          "Event Type": "search_click_result_10",
          "Week": "2014-06-30T00:00:00"
         },
         {
          "Count": 58,
          "Event Type": "search_click_result_2",
          "Week": "2014-06-30T00:00:00"
         },
         {
          "Count": 47,
          "Event Type": "search_click_result_3",
          "Week": "2014-06-30T00:00:00"
         },
         {
          "Count": 51,
          "Event Type": "search_click_result_4",
          "Week": "2014-06-30T00:00:00"
         },
         {
          "Count": 45,
          "Event Type": "search_click_result_5",
          "Week": "2014-06-30T00:00:00"
         },
         {
          "Count": 41,
          "Event Type": "search_click_result_6",
          "Week": "2014-06-30T00:00:00"
         },
         {
          "Count": 43,
          "Event Type": "search_click_result_7",
          "Week": "2014-06-30T00:00:00"
         },
         {
          "Count": 35,
          "Event Type": "search_click_result_8",
          "Week": "2014-06-30T00:00:00"
         },
         {
          "Count": 52,
          "Event Type": "search_click_result_9",
          "Week": "2014-06-30T00:00:00"
         },
         {
          "Count": 175,
          "Event Type": "search_run",
          "Week": "2014-06-30T00:00:00"
         },
         {
          "Count": 496,
          "Event Type": "search_autocomplete",
          "Week": "2014-07-07T00:00:00"
         },
         {
          "Count": 54,
          "Event Type": "search_click_result_1",
          "Week": "2014-07-07T00:00:00"
         },
         {
          "Count": 20,
          "Event Type": "search_click_result_10",
          "Week": "2014-07-07T00:00:00"
         },
         {
          "Count": 54,
          "Event Type": "search_click_result_2",
          "Week": "2014-07-07T00:00:00"
         },
         {
          "Count": 40,
          "Event Type": "search_click_result_3",
          "Week": "2014-07-07T00:00:00"
         },
         {
          "Count": 50,
          "Event Type": "search_click_result_4",
          "Week": "2014-07-07T00:00:00"
         },
         {
          "Count": 45,
          "Event Type": "search_click_result_5",
          "Week": "2014-07-07T00:00:00"
         },
         {
          "Count": 38,
          "Event Type": "search_click_result_6",
          "Week": "2014-07-07T00:00:00"
         },
         {
          "Count": 33,
          "Event Type": "search_click_result_7",
          "Week": "2014-07-07T00:00:00"
         },
         {
          "Count": 36,
          "Event Type": "search_click_result_8",
          "Week": "2014-07-07T00:00:00"
         },
         {
          "Count": 38,
          "Event Type": "search_click_result_9",
          "Week": "2014-07-07T00:00:00"
         },
         {
          "Count": 167,
          "Event Type": "search_run",
          "Week": "2014-07-07T00:00:00"
         },
         {
          "Count": 507,
          "Event Type": "search_autocomplete",
          "Week": "2014-07-14T00:00:00"
         },
         {
          "Count": 55,
          "Event Type": "search_click_result_1",
          "Week": "2014-07-14T00:00:00"
         },
         {
          "Count": 32,
          "Event Type": "search_click_result_10",
          "Week": "2014-07-14T00:00:00"
         },
         {
          "Count": 59,
          "Event Type": "search_click_result_2",
          "Week": "2014-07-14T00:00:00"
         },
         {
          "Count": 47,
          "Event Type": "search_click_result_3",
          "Week": "2014-07-14T00:00:00"
         },
         {
          "Count": 46,
          "Event Type": "search_click_result_4",
          "Week": "2014-07-14T00:00:00"
         },
         {
          "Count": 39,
          "Event Type": "search_click_result_5",
          "Week": "2014-07-14T00:00:00"
         },
         {
          "Count": 38,
          "Event Type": "search_click_result_6",
          "Week": "2014-07-14T00:00:00"
         },
         {
          "Count": 28,
          "Event Type": "search_click_result_7",
          "Week": "2014-07-14T00:00:00"
         },
         {
          "Count": 37,
          "Event Type": "search_click_result_8",
          "Week": "2014-07-14T00:00:00"
         },
         {
          "Count": 43,
          "Event Type": "search_click_result_9",
          "Week": "2014-07-14T00:00:00"
         },
         {
          "Count": 188,
          "Event Type": "search_run",
          "Week": "2014-07-14T00:00:00"
         },
         {
          "Count": 498,
          "Event Type": "search_autocomplete",
          "Week": "2014-07-21T00:00:00"
         },
         {
          "Count": 60,
          "Event Type": "search_click_result_1",
          "Week": "2014-07-21T00:00:00"
         },
         {
          "Count": 24,
          "Event Type": "search_click_result_10",
          "Week": "2014-07-21T00:00:00"
         },
         {
          "Count": 53,
          "Event Type": "search_click_result_2",
          "Week": "2014-07-21T00:00:00"
         },
         {
          "Count": 46,
          "Event Type": "search_click_result_3",
          "Week": "2014-07-21T00:00:00"
         },
         {
          "Count": 48,
          "Event Type": "search_click_result_4",
          "Week": "2014-07-21T00:00:00"
         },
         {
          "Count": 43,
          "Event Type": "search_click_result_5",
          "Week": "2014-07-21T00:00:00"
         },
         {
          "Count": 38,
          "Event Type": "search_click_result_6",
          "Week": "2014-07-21T00:00:00"
         },
         {
          "Count": 33,
          "Event Type": "search_click_result_7",
          "Week": "2014-07-21T00:00:00"
         },
         {
          "Count": 32,
          "Event Type": "search_click_result_8",
          "Week": "2014-07-21T00:00:00"
         },
         {
          "Count": 35,
          "Event Type": "search_click_result_9",
          "Week": "2014-07-21T00:00:00"
         },
         {
          "Count": 185,
          "Event Type": "search_run",
          "Week": "2014-07-21T00:00:00"
         },
         {
          "Count": 533,
          "Event Type": "search_autocomplete",
          "Week": "2014-07-28T00:00:00"
         },
         {
          "Count": 65,
          "Event Type": "search_click_result_1",
          "Week": "2014-07-28T00:00:00"
         },
         {
          "Count": 39,
          "Event Type": "search_click_result_10",
          "Week": "2014-07-28T00:00:00"
         },
         {
          "Count": 61,
          "Event Type": "search_click_result_2",
          "Week": "2014-07-28T00:00:00"
         },
         {
          "Count": 57,
          "Event Type": "search_click_result_3",
          "Week": "2014-07-28T00:00:00"
         },
         {
          "Count": 59,
          "Event Type": "search_click_result_4",
          "Week": "2014-07-28T00:00:00"
         },
         {
          "Count": 48,
          "Event Type": "search_click_result_5",
          "Week": "2014-07-28T00:00:00"
         },
         {
          "Count": 40,
          "Event Type": "search_click_result_6",
          "Week": "2014-07-28T00:00:00"
         },
         {
          "Count": 37,
          "Event Type": "search_click_result_7",
          "Week": "2014-07-28T00:00:00"
         },
         {
          "Count": 34,
          "Event Type": "search_click_result_8",
          "Week": "2014-07-28T00:00:00"
         },
         {
          "Count": 43,
          "Event Type": "search_click_result_9",
          "Week": "2014-07-28T00:00:00"
         },
         {
          "Count": 208,
          "Event Type": "search_run",
          "Week": "2014-07-28T00:00:00"
         },
         {
          "Count": 485,
          "Event Type": "search_autocomplete",
          "Week": "2014-08-04T00:00:00"
         },
         {
          "Count": 46,
          "Event Type": "search_click_result_1",
          "Week": "2014-08-04T00:00:00"
         },
         {
          "Count": 22,
          "Event Type": "search_click_result_10",
          "Week": "2014-08-04T00:00:00"
         },
         {
          "Count": 52,
          "Event Type": "search_click_result_2",
          "Week": "2014-08-04T00:00:00"
         },
         {
          "Count": 38,
          "Event Type": "search_click_result_3",
          "Week": "2014-08-04T00:00:00"
         },
         {
          "Count": 44,
          "Event Type": "search_click_result_4",
          "Week": "2014-08-04T00:00:00"
         },
         {
          "Count": 36,
          "Event Type": "search_click_result_5",
          "Week": "2014-08-04T00:00:00"
         },
         {
          "Count": 31,
          "Event Type": "search_click_result_6",
          "Week": "2014-08-04T00:00:00"
         },
         {
          "Count": 30,
          "Event Type": "search_click_result_7",
          "Week": "2014-08-04T00:00:00"
         },
         {
          "Count": 33,
          "Event Type": "search_click_result_8",
          "Week": "2014-08-04T00:00:00"
         },
         {
          "Count": 36,
          "Event Type": "search_click_result_9",
          "Week": "2014-08-04T00:00:00"
         },
         {
          "Count": 177,
          "Event Type": "search_run",
          "Week": "2014-08-04T00:00:00"
         },
         {
          "Count": 429,
          "Event Type": "search_autocomplete",
          "Week": "2014-08-11T00:00:00"
         },
         {
          "Count": 40,
          "Event Type": "search_click_result_1",
          "Week": "2014-08-11T00:00:00"
         },
         {
          "Count": 24,
          "Event Type": "search_click_result_10",
          "Week": "2014-08-11T00:00:00"
         },
         {
          "Count": 41,
          "Event Type": "search_click_result_2",
          "Week": "2014-08-11T00:00:00"
         },
         {
          "Count": 41,
          "Event Type": "search_click_result_3",
          "Week": "2014-08-11T00:00:00"
         },
         {
          "Count": 35,
          "Event Type": "search_click_result_4",
          "Week": "2014-08-11T00:00:00"
         },
         {
          "Count": 30,
          "Event Type": "search_click_result_5",
          "Week": "2014-08-11T00:00:00"
         },
         {
          "Count": 33,
          "Event Type": "search_click_result_6",
          "Week": "2014-08-11T00:00:00"
         },
         {
          "Count": 22,
          "Event Type": "search_click_result_7",
          "Week": "2014-08-11T00:00:00"
         },
         {
          "Count": 20,
          "Event Type": "search_click_result_8",
          "Week": "2014-08-11T00:00:00"
         },
         {
          "Count": 23,
          "Event Type": "search_click_result_9",
          "Week": "2014-08-11T00:00:00"
         },
         {
          "Count": 152,
          "Event Type": "search_run",
          "Week": "2014-08-11T00:00:00"
         },
         {
          "Count": 446,
          "Event Type": "search_autocomplete",
          "Week": "2014-08-18T00:00:00"
         },
         {
          "Count": 30,
          "Event Type": "search_click_result_1",
          "Week": "2014-08-18T00:00:00"
         },
         {
          "Count": 10,
          "Event Type": "search_click_result_10",
          "Week": "2014-08-18T00:00:00"
         },
         {
          "Count": 37,
          "Event Type": "search_click_result_2",
          "Week": "2014-08-18T00:00:00"
         },
         {
          "Count": 25,
          "Event Type": "search_click_result_3",
          "Week": "2014-08-18T00:00:00"
         },
         {
          "Count": 34,
          "Event Type": "search_click_result_4",
          "Week": "2014-08-18T00:00:00"
         },
         {
          "Count": 22,
          "Event Type": "search_click_result_5",
          "Week": "2014-08-18T00:00:00"
         },
         {
          "Count": 26,
          "Event Type": "search_click_result_6",
          "Week": "2014-08-18T00:00:00"
         },
         {
          "Count": 25,
          "Event Type": "search_click_result_7",
          "Week": "2014-08-18T00:00:00"
         },
         {
          "Count": 21,
          "Event Type": "search_click_result_8",
          "Week": "2014-08-18T00:00:00"
         },
         {
          "Count": 16,
          "Event Type": "search_click_result_9",
          "Week": "2014-08-18T00:00:00"
         },
         {
          "Count": 132,
          "Event Type": "search_run",
          "Week": "2014-08-18T00:00:00"
         },
         {
          "Count": 454,
          "Event Type": "search_autocomplete",
          "Week": "2014-08-25T00:00:00"
         },
         {
          "Count": 45,
          "Event Type": "search_click_result_1",
          "Week": "2014-08-25T00:00:00"
         },
         {
          "Count": 22,
          "Event Type": "search_click_result_10",
          "Week": "2014-08-25T00:00:00"
         },
         {
          "Count": 35,
          "Event Type": "search_click_result_2",
          "Week": "2014-08-25T00:00:00"
         },
         {
          "Count": 34,
          "Event Type": "search_click_result_3",
          "Week": "2014-08-25T00:00:00"
         },
         {
          "Count": 35,
          "Event Type": "search_click_result_4",
          "Week": "2014-08-25T00:00:00"
         },
         {
          "Count": 25,
          "Event Type": "search_click_result_5",
          "Week": "2014-08-25T00:00:00"
         },
         {
          "Count": 26,
          "Event Type": "search_click_result_6",
          "Week": "2014-08-25T00:00:00"
         },
         {
          "Count": 22,
          "Event Type": "search_click_result_7",
          "Week": "2014-08-25T00:00:00"
         },
         {
          "Count": 19,
          "Event Type": "search_click_result_8",
          "Week": "2014-08-25T00:00:00"
         },
         {
          "Count": 24,
          "Event Type": "search_click_result_9",
          "Week": "2014-08-25T00:00:00"
         },
         {
          "Count": 151,
          "Event Type": "search_run",
          "Week": "2014-08-25T00:00:00"
         }
        ]
       },
       "encoding": {
        "color": {
         "field": "Event Type",
         "type": "nominal"
        },
        "x": {
         "field": "Week",
         "type": "temporal"
        },
        "y": {
         "field": "Count",
         "type": "quantitative"
        }
       },
       "mark": "line"
      },
      "image/png": "[encoded data removed]",
      "text/plain": [
       "<VegaLite 2 object>\n",
       "\n",
       "If you see this message, it means the renderer has not been properly enabled\n",
       "for the frontend that you are using. For more information, see\n",
       "https://altair-viz.github.io/user_guide/troubleshooting.html\n"
      ]
     },
     "execution_count": 12,
     "metadata": {},
     "output_type": "execute_result"
    }
   ],
   "source": [
    "alt.Chart(searches).mark_line().encode(\n",
    "    x='Week',\n",
    "    y='Count',\n",
    "    color='Event Type'\n",
    ")"
   ]
  },
  {
   "cell_type": "markdown",
   "metadata": {},
   "source": [
    "The two search activities with interpretable counts both showed downticks; the others don't have enough data to interpret.\n",
    "\n",
    "Now check for signup events."
   ]
  },
  {
   "cell_type": "code",
   "execution_count": 13,
   "metadata": {},
   "outputs": [],
   "source": [
    "signup_events = events[events.event_type.str.startswith('signup')]\n",
    "signup_events = signup_events.groupby(['week', 'event_name']).user_id.nunique().to_frame().reset_index()\n",
    "signup_events.columns = ['Week', 'Event Type', 'Count']"
   ]
  },
  {
   "cell_type": "code",
   "execution_count": 14,
   "metadata": {},
   "outputs": [
    {
     "data": {
      "application/vnd.vegalite.v2+json": {
       "$schema": "https://vega.github.io/schema/vega-lite/v2.6.0.json",
       "config": {
        "view": {
         "height": 300,
         "width": 400
        }
       },
       "data": {
        "name": "data-cfc0f31e0de3089782b016b0d3da3f41"
       },
       "datasets": {
        "data-cfc0f31e0de3089782b016b0d3da3f41": [
         {
          "Count": 81,
          "Event Type": "complete_signup",
          "Week": "2014-04-28T00:00:00"
         },
         {
          "Count": 171,
          "Event Type": "create_user",
          "Week": "2014-04-28T00:00:00"
         },
         {
          "Count": 102,
          "Event Type": "enter_email",
          "Week": "2014-04-28T00:00:00"
         },
         {
          "Count": 86,
          "Event Type": "enter_info",
          "Week": "2014-04-28T00:00:00"
         },
         {
          "Count": 160,
          "Event Type": "complete_signup",
          "Week": "2014-05-05T00:00:00"
         },
         {
          "Count": 350,
          "Event Type": "create_user",
          "Week": "2014-05-05T00:00:00"
         },
         {
          "Count": 205,
          "Event Type": "enter_email",
          "Week": "2014-05-05T00:00:00"
         },
         {
          "Count": 169,
          "Event Type": "enter_info",
          "Week": "2014-05-05T00:00:00"
         },
         {
          "Count": 186,
          "Event Type": "complete_signup",
          "Week": "2014-05-12T00:00:00"
         },
         {
          "Count": 362,
          "Event Type": "create_user",
          "Week": "2014-05-12T00:00:00"
         },
         {
          "Count": 218,
          "Event Type": "enter_email",
          "Week": "2014-05-12T00:00:00"
         },
         {
          "Count": 194,
          "Event Type": "enter_info",
          "Week": "2014-05-12T00:00:00"
         },
         {
          "Count": 177,
          "Event Type": "complete_signup",
          "Week": "2014-05-19T00:00:00"
         },
         {
          "Count": 371,
          "Event Type": "create_user",
          "Week": "2014-05-19T00:00:00"
         },
         {
          "Count": 218,
          "Event Type": "enter_email",
          "Week": "2014-05-19T00:00:00"
         },
         {
          "Count": 189,
          "Event Type": "enter_info",
          "Week": "2014-05-19T00:00:00"
         },
         {
          "Count": 186,
          "Event Type": "complete_signup",
          "Week": "2014-05-26T00:00:00"
         },
         {
          "Count": 366,
          "Event Type": "create_user",
          "Week": "2014-05-26T00:00:00"
         },
         {
          "Count": 227,
          "Event Type": "enter_email",
          "Week": "2014-05-26T00:00:00"
         },
         {
          "Count": 199,
          "Event Type": "enter_info",
          "Week": "2014-05-26T00:00:00"
         },
         {
          "Count": 197,
          "Event Type": "complete_signup",
          "Week": "2014-06-02T00:00:00"
         },
         {
          "Count": 390,
          "Event Type": "create_user",
          "Week": "2014-06-02T00:00:00"
         },
         {
          "Count": 246,
          "Event Type": "enter_email",
          "Week": "2014-06-02T00:00:00"
         },
         {
          "Count": 210,
          "Event Type": "enter_info",
          "Week": "2014-06-02T00:00:00"
         },
         {
          "Count": 198,
          "Event Type": "complete_signup",
          "Week": "2014-06-09T00:00:00"
         },
         {
          "Count": 413,
          "Event Type": "create_user",
          "Week": "2014-06-09T00:00:00"
         },
         {
          "Count": 250,
          "Event Type": "enter_email",
          "Week": "2014-06-09T00:00:00"
         },
         {
          "Count": 212,
          "Event Type": "enter_info",
          "Week": "2014-06-09T00:00:00"
         },
         {
          "Count": 222,
          "Event Type": "complete_signup",
          "Week": "2014-06-16T00:00:00"
         },
         {
          "Count": 421,
          "Event Type": "create_user",
          "Week": "2014-06-16T00:00:00"
         },
         {
          "Count": 262,
          "Event Type": "enter_email",
          "Week": "2014-06-16T00:00:00"
         },
         {
          "Count": 231,
          "Event Type": "enter_info",
          "Week": "2014-06-16T00:00:00"
         },
         {
          "Count": 210,
          "Event Type": "complete_signup",
          "Week": "2014-06-23T00:00:00"
         },
         {
          "Count": 404,
          "Event Type": "create_user",
          "Week": "2014-06-23T00:00:00"
         },
         {
          "Count": 247,
          "Event Type": "enter_email",
          "Week": "2014-06-23T00:00:00"
         },
         {
          "Count": 220,
          "Event Type": "enter_info",
          "Week": "2014-06-23T00:00:00"
         },
         {
          "Count": 199,
          "Event Type": "complete_signup",
          "Week": "2014-06-30T00:00:00"
         },
         {
          "Count": 405,
          "Event Type": "create_user",
          "Week": "2014-06-30T00:00:00"
         },
         {
          "Count": 239,
          "Event Type": "enter_email",
          "Week": "2014-06-30T00:00:00"
         },
         {
          "Count": 214,
          "Event Type": "enter_info",
          "Week": "2014-06-30T00:00:00"
         },
         {
          "Count": 223,
          "Event Type": "complete_signup",
          "Week": "2014-07-07T00:00:00"
         },
         {
          "Count": 424,
          "Event Type": "create_user",
          "Week": "2014-07-07T00:00:00"
         },
         {
          "Count": 269,
          "Event Type": "enter_email",
          "Week": "2014-07-07T00:00:00"
         },
         {
          "Count": 231,
          "Event Type": "enter_info",
          "Week": "2014-07-07T00:00:00"
         },
         {
          "Count": 215,
          "Event Type": "complete_signup",
          "Week": "2014-07-14T00:00:00"
         },
         {
          "Count": 426,
          "Event Type": "create_user",
          "Week": "2014-07-14T00:00:00"
         },
         {
          "Count": 260,
          "Event Type": "enter_email",
          "Week": "2014-07-14T00:00:00"
         },
         {
          "Count": 229,
          "Event Type": "enter_info",
          "Week": "2014-07-14T00:00:00"
         },
         {
          "Count": 228,
          "Event Type": "complete_signup",
          "Week": "2014-07-21T00:00:00"
         },
         {
          "Count": 458,
          "Event Type": "create_user",
          "Week": "2014-07-21T00:00:00"
         },
         {
          "Count": 271,
          "Event Type": "enter_email",
          "Week": "2014-07-21T00:00:00"
         },
         {
          "Count": 235,
          "Event Type": "enter_info",
          "Week": "2014-07-21T00:00:00"
         },
         {
          "Count": 234,
          "Event Type": "complete_signup",
          "Week": "2014-07-28T00:00:00"
         },
         {
          "Count": 476,
          "Event Type": "create_user",
          "Week": "2014-07-28T00:00:00"
         },
         {
          "Count": 274,
          "Event Type": "enter_email",
          "Week": "2014-07-28T00:00:00"
         },
         {
          "Count": 244,
          "Event Type": "enter_info",
          "Week": "2014-07-28T00:00:00"
         },
         {
          "Count": 189,
          "Event Type": "complete_signup",
          "Week": "2014-08-04T00:00:00"
         },
         {
          "Count": 406,
          "Event Type": "create_user",
          "Week": "2014-08-04T00:00:00"
         },
         {
          "Count": 223,
          "Event Type": "enter_email",
          "Week": "2014-08-04T00:00:00"
         },
         {
          "Count": 199,
          "Event Type": "enter_info",
          "Week": "2014-08-04T00:00:00"
         },
         {
          "Count": 250,
          "Event Type": "complete_signup",
          "Week": "2014-08-11T00:00:00"
         },
         {
          "Count": 473,
          "Event Type": "create_user",
          "Week": "2014-08-11T00:00:00"
         },
         {
          "Count": 289,
          "Event Type": "enter_email",
          "Week": "2014-08-11T00:00:00"
         },
         {
          "Count": 258,
          "Event Type": "enter_info",
          "Week": "2014-08-11T00:00:00"
         },
         {
          "Count": 259,
          "Event Type": "complete_signup",
          "Week": "2014-08-18T00:00:00"
         },
         {
          "Count": 468,
          "Event Type": "create_user",
          "Week": "2014-08-18T00:00:00"
         },
         {
          "Count": 294,
          "Event Type": "enter_email",
          "Week": "2014-08-18T00:00:00"
         },
         {
          "Count": 269,
          "Event Type": "enter_info",
          "Week": "2014-08-18T00:00:00"
         },
         {
          "Count": 266,
          "Event Type": "complete_signup",
          "Week": "2014-08-25T00:00:00"
         },
         {
          "Count": 514,
          "Event Type": "create_user",
          "Week": "2014-08-25T00:00:00"
         },
         {
          "Count": 313,
          "Event Type": "enter_email",
          "Week": "2014-08-25T00:00:00"
         },
         {
          "Count": 283,
          "Event Type": "enter_info",
          "Week": "2014-08-25T00:00:00"
         }
        ]
       },
       "encoding": {
        "color": {
         "field": "Event Type",
         "type": "nominal"
        },
        "x": {
         "field": "Week",
         "type": "temporal"
        },
        "y": {
         "field": "Count",
         "type": "quantitative"
        }
       },
       "mark": "line"
      },
      "image/png": "[encoded data removed]",
      "text/plain": [
       "<VegaLite 2 object>\n",
       "\n",
       "If you see this message, it means the renderer has not been properly enabled\n",
       "for the frontend that you are using. For more information, see\n",
       "https://altair-viz.github.io/user_guide/troubleshooting.html\n"
      ]
     },
     "execution_count": 14,
     "metadata": {},
     "output_type": "execute_result"
    }
   ],
   "source": [
    "alt.Chart(signup_events).mark_line().encode(\n",
    "    x='Week',\n",
    "    y='Count',\n",
    "    color='Event Type'\n",
    ")"
   ]
  },
  {
   "cell_type": "markdown",
   "metadata": {},
   "source": [
    "Signup events do **not** show any downtick in August, but instead show their continued upward trajectory.\n",
    "\n",
    "### Event-type analysis summary\n",
    "\n",
    "1. Signups continued throughout the period\n",
    "2. Non-signup related activity decreased (existing users)\n",
    "3. Device type could be informative"
   ]
  },
  {
   "cell_type": "markdown",
   "metadata": {},
   "source": [
    "### Device type analysis\n",
    "\n",
    "Here I will look at engagements for existing users, broken down by general device type. If there was a glitch in one of the platforms (e.g., web, mobile), that could have led to decreased engagements."
   ]
  },
  {
   "cell_type": "code",
   "execution_count": 99,
   "metadata": {},
   "outputs": [
    {
     "name": "stderr",
     "output_type": "stream",
     "text": [
      "/Users/Darren/anaconda3/envs/Insight/lib/python3.6/site-packages/ipykernel_launcher.py:8: SettingWithCopyWarning: \n",
      "A value is trying to be set on a copy of a slice from a DataFrame.\n",
      "Try using .loc[row_indexer,col_indexer] = value instead\n",
      "\n",
      "See the caveats in the documentation: http://pandas.pydata.org/pandas-docs/stable/indexing.html#indexing-view-versus-copy\n",
      "  \n",
      "/Users/Darren/anaconda3/envs/Insight/lib/python3.6/site-packages/pandas/core/indexing.py:543: SettingWithCopyWarning: \n",
      "A value is trying to be set on a copy of a slice from a DataFrame.\n",
      "Try using .loc[row_indexer,col_indexer] = value instead\n",
      "\n",
      "See the caveats in the documentation: http://pandas.pydata.org/pandas-docs/stable/indexing.html#indexing-view-versus-copy\n",
      "  self.obj[item] = s\n"
     ]
    }
   ],
   "source": [
    "# Device categories\n",
    "phones = ['iphone 5', 'iphone 4s', 'iphone 5s', 'nexus 7', 'nexus 5', 'amazon fire phone', 'samsung galaxy s4', 'htc one', 'nokia lumia 635', 'nexus 10']\n",
    "computers = ['dell inspiron notebook', 'macbook air', 'macbook pro', 'lenovo thinkpad', 'acer aspire notebook', 'mac mini', \n",
    "            'hp pavilion desktop', 'dell inspiron desktop', 'acer aspire desktop']\n",
    "tablets = ['windows surface', 'ipad mini', 'asus chromebook', 'ipad air', 'kindle fire', 'samsumg galaxy tablet', 'samsung galaxy note']\n",
    "\n",
    "# Add column for category\n",
    "engagement_events['device_category'] = ''\n",
    "engagement_events.loc[engagement_events.device.isin(phones), 'device_category'] = 'phone'\n",
    "engagement_events.loc[engagement_events.device.isin(computers), 'device_category'] = 'computer'\n",
    "engagement_events.loc[engagement_events.device.isin(tablets), 'device_category'] = 'tablets'\n",
    "\n",
    "# Bin by week\n",
    "devices_by_week = engagement_events.groupby(['week', 'device_category']).user_id.nunique().to_frame().reset_index()\n",
    "devices_by_week.columns = ['Week', 'Device Category', 'Count']"
   ]
  },
  {
   "cell_type": "code",
   "execution_count": 64,
   "metadata": {},
   "outputs": [
    {
     "data": {
      "application/vnd.vegalite.v2+json": {
       "$schema": "https://vega.github.io/schema/vega-lite/v2.6.0.json",
       "config": {
        "view": {
         "height": 300,
         "width": 400
        }
       },
       "data": {
        "name": "data-da51aed6f51c74126cc5520a962b5b09"
       },
       "datasets": {
        "data-da51aed6f51c74126cc5520a962b5b09": [
         {
          "Count": 392,
          "Device Category": "computer",
          "Week": "2014-04-28T00:00:00"
         },
         {
          "Count": 297,
          "Device Category": "phone",
          "Week": "2014-04-28T00:00:00"
         },
         {
          "Count": 104,
          "Device Category": "tablets",
          "Week": "2014-04-28T00:00:00"
         },
         {
          "Count": 685,
          "Device Category": "computer",
          "Week": "2014-05-05T00:00:00"
         },
         {
          "Count": 479,
          "Device Category": "phone",
          "Week": "2014-05-05T00:00:00"
         },
         {
          "Count": 183,
          "Device Category": "tablets",
          "Week": "2014-05-05T00:00:00"
         },
         {
          "Count": 699,
          "Device Category": "computer",
          "Week": "2014-05-12T00:00:00"
         },
         {
          "Count": 506,
          "Device Category": "phone",
          "Week": "2014-05-12T00:00:00"
         },
         {
          "Count": 166,
          "Device Category": "tablets",
          "Week": "2014-05-12T00:00:00"
         },
         {
          "Count": 734,
          "Device Category": "computer",
          "Week": "2014-05-19T00:00:00"
         },
         {
          "Count": 539,
          "Device Category": "phone",
          "Week": "2014-05-19T00:00:00"
         },
         {
          "Count": 185,
          "Device Category": "tablets",
          "Week": "2014-05-19T00:00:00"
         },
         {
          "Count": 689,
          "Device Category": "computer",
          "Week": "2014-05-26T00:00:00"
         },
         {
          "Count": 515,
          "Device Category": "phone",
          "Week": "2014-05-26T00:00:00"
         },
         {
          "Count": 184,
          "Device Category": "tablets",
          "Week": "2014-05-26T00:00:00"
         },
         {
          "Count": 756,
          "Device Category": "computer",
          "Week": "2014-06-02T00:00:00"
         },
         {
          "Count": 528,
          "Device Category": "phone",
          "Week": "2014-06-02T00:00:00"
         },
         {
          "Count": 203,
          "Device Category": "tablets",
          "Week": "2014-06-02T00:00:00"
         },
         {
          "Count": 761,
          "Device Category": "computer",
          "Week": "2014-06-09T00:00:00"
         },
         {
          "Count": 586,
          "Device Category": "phone",
          "Week": "2014-06-09T00:00:00"
         },
         {
          "Count": 184,
          "Device Category": "tablets",
          "Week": "2014-06-09T00:00:00"
         },
         {
          "Count": 782,
          "Device Category": "computer",
          "Week": "2014-06-16T00:00:00"
         },
         {
          "Count": 579,
          "Device Category": "phone",
          "Week": "2014-06-16T00:00:00"
         },
         {
          "Count": 210,
          "Device Category": "tablets",
          "Week": "2014-06-16T00:00:00"
         },
         {
          "Count": 806,
          "Device Category": "computer",
          "Week": "2014-06-23T00:00:00"
         },
         {
          "Count": 565,
          "Device Category": "phone",
          "Week": "2014-06-23T00:00:00"
         },
         {
          "Count": 194,
          "Device Category": "tablets",
          "Week": "2014-06-23T00:00:00"
         },
         {
          "Count": 771,
          "Device Category": "computer",
          "Week": "2014-06-30T00:00:00"
         },
         {
          "Count": 609,
          "Device Category": "phone",
          "Week": "2014-06-30T00:00:00"
         },
         {
          "Count": 210,
          "Device Category": "tablets",
          "Week": "2014-06-30T00:00:00"
         },
         {
          "Count": 833,
          "Device Category": "computer",
          "Week": "2014-07-07T00:00:00"
         },
         {
          "Count": 628,
          "Device Category": "phone",
          "Week": "2014-07-07T00:00:00"
         },
         {
          "Count": 225,
          "Device Category": "tablets",
          "Week": "2014-07-07T00:00:00"
         },
         {
          "Count": 859,
          "Device Category": "computer",
          "Week": "2014-07-14T00:00:00"
         },
         {
          "Count": 609,
          "Device Category": "phone",
          "Week": "2014-07-14T00:00:00"
         },
         {
          "Count": 217,
          "Device Category": "tablets",
          "Week": "2014-07-14T00:00:00"
         },
         {
          "Count": 870,
          "Device Category": "computer",
          "Week": "2014-07-21T00:00:00"
         },
         {
          "Count": 625,
          "Device Category": "phone",
          "Week": "2014-07-21T00:00:00"
         },
         {
          "Count": 222,
          "Device Category": "tablets",
          "Week": "2014-07-21T00:00:00"
         },
         {
          "Count": 912,
          "Device Category": "computer",
          "Week": "2014-07-28T00:00:00"
         },
         {
          "Count": 633,
          "Device Category": "phone",
          "Week": "2014-07-28T00:00:00"
         },
         {
          "Count": 219,
          "Device Category": "tablets",
          "Week": "2014-07-28T00:00:00"
         },
         {
          "Count": 869,
          "Device Category": "computer",
          "Week": "2014-08-04T00:00:00"
         },
         {
          "Count": 515,
          "Device Category": "phone",
          "Week": "2014-08-04T00:00:00"
         },
         {
          "Count": 183,
          "Device Category": "tablets",
          "Week": "2014-08-04T00:00:00"
         },
         {
          "Count": 842,
          "Device Category": "computer",
          "Week": "2014-08-11T00:00:00"
         },
         {
          "Count": 463,
          "Device Category": "phone",
          "Week": "2014-08-11T00:00:00"
         },
         {
          "Count": 172,
          "Device Category": "tablets",
          "Week": "2014-08-11T00:00:00"
         },
         {
          "Count": 839,
          "Device Category": "computer",
          "Week": "2014-08-18T00:00:00"
         },
         {
          "Count": 446,
          "Device Category": "phone",
          "Week": "2014-08-18T00:00:00"
         },
         {
          "Count": 164,
          "Device Category": "tablets",
          "Week": "2014-08-18T00:00:00"
         },
         {
          "Count": 831,
          "Device Category": "computer",
          "Week": "2014-08-25T00:00:00"
         },
         {
          "Count": 460,
          "Device Category": "phone",
          "Week": "2014-08-25T00:00:00"
         },
         {
          "Count": 163,
          "Device Category": "tablets",
          "Week": "2014-08-25T00:00:00"
         }
        ]
       },
       "encoding": {
        "color": {
         "field": "Device Category",
         "type": "nominal"
        },
        "x": {
         "field": "Week",
         "type": "temporal"
        },
        "y": {
         "field": "Count",
         "type": "quantitative"
        }
       },
       "mark": "line"
      },
      "image/png": "[encoded data removed]",
      "text/plain": [
       "<VegaLite 2 object>\n",
       "\n",
       "If you see this message, it means the renderer has not been properly enabled\n",
       "for the frontend that you are using. For more information, see\n",
       "https://altair-viz.github.io/user_guide/troubleshooting.html\n"
      ]
     },
     "execution_count": 64,
     "metadata": {},
     "output_type": "execute_result"
    }
   ],
   "source": [
    "alt.Chart(devices_by_week).mark_line().encode(\n",
    "    x='Week',\n",
    "    y='Count',\n",
    "    color='Device Category'\n",
    ")"
   ]
  },
  {
   "cell_type": "markdown",
   "metadata": {},
   "source": [
    "This graph shows a clear trend: the downtick disproportionately impacted phones. Engagements on tablets and computers flattened or slightly downtrended, but not nearly to the extent that engagements on phones did.\n",
    "\n",
    "#### Which phones were impacted?"
   ]
  },
  {
   "cell_type": "code",
   "execution_count": 104,
   "metadata": {},
   "outputs": [],
   "source": [
    "phone_engagements = engagement_events[engagement_events.device_category == 'phone']\n",
    "phone_engagements_summary = phone_engagements.groupby(['week', 'device']).user_id.nunique().to_frame().reset_index()\n",
    "phone_engagements_summary.columns = ['Week', 'Device', 'Count']"
   ]
  },
  {
   "cell_type": "code",
   "execution_count": 105,
   "metadata": {},
   "outputs": [
    {
     "data": {
      "application/vnd.vegalite.v2+json": {
       "$schema": "https://vega.github.io/schema/vega-lite/v2.6.0.json",
       "config": {
        "view": {
         "height": 300,
         "width": 400
        }
       },
       "data": {
        "name": "data-2f877e4d508de22eb64ed40287be834e"
       },
       "datasets": {
        "data-2f877e4d508de22eb64ed40287be834e": [
         {
          "Count": 4,
          "Device": "amazon fire phone",
          "Week": "2014-04-28T00:00:00"
         },
         {
          "Count": 16,
          "Device": "htc one",
          "Week": "2014-04-28T00:00:00"
         },
         {
          "Count": 21,
          "Device": "iphone 4s",
          "Week": "2014-04-28T00:00:00"
         },
         {
          "Count": 70,
          "Device": "iphone 5",
          "Week": "2014-04-28T00:00:00"
         },
         {
          "Count": 45,
          "Device": "iphone 5s",
          "Week": "2014-04-28T00:00:00"
         },
         {
          "Count": 16,
          "Device": "nexus 10",
          "Week": "2014-04-28T00:00:00"
         },
         {
          "Count": 43,
          "Device": "nexus 5",
          "Week": "2014-04-28T00:00:00"
         },
         {
          "Count": 20,
          "Device": "nexus 7",
          "Week": "2014-04-28T00:00:00"
         },
         {
          "Count": 19,
          "Device": "nokia lumia 635",
          "Week": "2014-04-28T00:00:00"
         },
         {
          "Count": 56,
          "Device": "samsung galaxy s4",
          "Week": "2014-04-28T00:00:00"
         },
         {
          "Count": 9,
          "Device": "amazon fire phone",
          "Week": "2014-05-05T00:00:00"
         },
         {
          "Count": 19,
          "Device": "htc one",
          "Week": "2014-05-05T00:00:00"
         },
         {
          "Count": 47,
          "Device": "iphone 4s",
          "Week": "2014-05-05T00:00:00"
         },
         {
          "Count": 114,
          "Device": "iphone 5",
          "Week": "2014-05-05T00:00:00"
         },
         {
          "Count": 70,
          "Device": "iphone 5s",
          "Week": "2014-05-05T00:00:00"
         },
         {
          "Count": 30,
          "Device": "nexus 10",
          "Week": "2014-05-05T00:00:00"
         },
         {
          "Count": 73,
          "Device": "nexus 5",
          "Week": "2014-05-05T00:00:00"
         },
         {
          "Count": 29,
          "Device": "nexus 7",
          "Week": "2014-05-05T00:00:00"
         },
         {
          "Count": 34,
          "Device": "nokia lumia 635",
          "Week": "2014-05-05T00:00:00"
         },
         {
          "Count": 80,
          "Device": "samsung galaxy s4",
          "Week": "2014-05-05T00:00:00"
         },
         {
          "Count": 12,
          "Device": "amazon fire phone",
          "Week": "2014-05-12T00:00:00"
         },
         {
          "Count": 32,
          "Device": "htc one",
          "Week": "2014-05-12T00:00:00"
         },
         {
          "Count": 40,
          "Device": "iphone 4s",
          "Week": "2014-05-12T00:00:00"
         },
         {
          "Count": 113,
          "Device": "iphone 5",
          "Week": "2014-05-12T00:00:00"
         },
         {
          "Count": 77,
          "Device": "iphone 5s",
          "Week": "2014-05-12T00:00:00"
         },
         {
          "Count": 25,
          "Device": "nexus 10",
          "Week": "2014-05-12T00:00:00"
         },
         {
          "Count": 84,
          "Device": "nexus 5",
          "Week": "2014-05-12T00:00:00"
         },
         {
          "Count": 41,
          "Device": "nexus 7",
          "Week": "2014-05-12T00:00:00"
         },
         {
          "Count": 22,
          "Device": "nokia lumia 635",
          "Week": "2014-05-12T00:00:00"
         },
         {
          "Count": 90,
          "Device": "samsung galaxy s4",
          "Week": "2014-05-12T00:00:00"
         },
         {
          "Count": 10,
          "Device": "amazon fire phone",
          "Week": "2014-05-19T00:00:00"
         },
         {
          "Count": 27,
          "Device": "htc one",
          "Week": "2014-05-19T00:00:00"
         },
         {
          "Count": 56,
          "Device": "iphone 4s",
          "Week": "2014-05-19T00:00:00"
         },
         {
          "Count": 128,
          "Device": "iphone 5",
          "Week": "2014-05-19T00:00:00"
         },
         {
          "Count": 75,
          "Device": "iphone 5s",
          "Week": "2014-05-19T00:00:00"
         },
         {
          "Count": 23,
          "Device": "nexus 10",
          "Week": "2014-05-19T00:00:00"
         },
         {
          "Count": 99,
          "Device": "nexus 5",
          "Week": "2014-05-19T00:00:00"
         },
         {
          "Count": 31,
          "Device": "nexus 7",
          "Week": "2014-05-19T00:00:00"
         },
         {
          "Count": 21,
          "Device": "nokia lumia 635",
          "Week": "2014-05-19T00:00:00"
         },
         {
          "Count": 92,
          "Device": "samsung galaxy s4",
          "Week": "2014-05-19T00:00:00"
         },
         {
          "Count": 4,
          "Device": "amazon fire phone",
          "Week": "2014-05-26T00:00:00"
         },
         {
          "Count": 20,
          "Device": "htc one",
          "Week": "2014-05-26T00:00:00"
         },
         {
          "Count": 46,
          "Device": "iphone 4s",
          "Week": "2014-05-26T00:00:00"
         },
         {
          "Count": 136,
          "Device": "iphone 5",
          "Week": "2014-05-26T00:00:00"
         },
         {
          "Count": 71,
          "Device": "iphone 5s",
          "Week": "2014-05-26T00:00:00"
         },
         {
          "Count": 24,
          "Device": "nexus 10",
          "Week": "2014-05-26T00:00:00"
         },
         {
          "Count": 94,
          "Device": "nexus 5",
          "Week": "2014-05-26T00:00:00"
         },
         {
          "Count": 29,
          "Device": "nexus 7",
          "Week": "2014-05-26T00:00:00"
         },
         {
          "Count": 25,
          "Device": "nokia lumia 635",
          "Week": "2014-05-26T00:00:00"
         },
         {
          "Count": 84,
          "Device": "samsung galaxy s4",
          "Week": "2014-05-26T00:00:00"
         },
         {
          "Count": 5,
          "Device": "amazon fire phone",
          "Week": "2014-06-02T00:00:00"
         },
         {
          "Count": 24,
          "Device": "htc one",
          "Week": "2014-06-02T00:00:00"
         },
         {
          "Count": 41,
          "Device": "iphone 4s",
          "Week": "2014-06-02T00:00:00"
         },
         {
          "Count": 122,
          "Device": "iphone 5",
          "Week": "2014-06-02T00:00:00"
         },
         {
          "Count": 71,
          "Device": "iphone 5s",
          "Week": "2014-06-02T00:00:00"
         },
         {
          "Count": 28,
          "Device": "nexus 10",
          "Week": "2014-06-02T00:00:00"
         },
         {
          "Count": 95,
          "Device": "nexus 5",
          "Week": "2014-06-02T00:00:00"
         },
         {
          "Count": 44,
          "Device": "nexus 7",
          "Week": "2014-06-02T00:00:00"
         },
         {
          "Count": 25,
          "Device": "nokia lumia 635",
          "Week": "2014-06-02T00:00:00"
         },
         {
          "Count": 103,
          "Device": "samsung galaxy s4",
          "Week": "2014-06-02T00:00:00"
         },
         {
          "Count": 16,
          "Device": "amazon fire phone",
          "Week": "2014-06-09T00:00:00"
         },
         {
          "Count": 21,
          "Device": "htc one",
          "Week": "2014-06-09T00:00:00"
         },
         {
          "Count": 52,
          "Device": "iphone 4s",
          "Week": "2014-06-09T00:00:00"
         },
         {
          "Count": 151,
          "Device": "iphone 5",
          "Week": "2014-06-09T00:00:00"
         },
         {
          "Count": 80,
          "Device": "iphone 5s",
          "Week": "2014-06-09T00:00:00"
         },
         {
          "Count": 43,
          "Device": "nexus 10",
          "Week": "2014-06-09T00:00:00"
         },
         {
          "Count": 87,
          "Device": "nexus 5",
          "Week": "2014-06-09T00:00:00"
         },
         {
          "Count": 37,
          "Device": "nexus 7",
          "Week": "2014-06-09T00:00:00"
         },
         {
          "Count": 31,
          "Device": "nokia lumia 635",
          "Week": "2014-06-09T00:00:00"
         },
         {
          "Count": 95,
          "Device": "samsung galaxy s4",
          "Week": "2014-06-09T00:00:00"
         },
         {
          "Count": 11,
          "Device": "amazon fire phone",
          "Week": "2014-06-16T00:00:00"
         },
         {
          "Count": 19,
          "Device": "htc one",
          "Week": "2014-06-16T00:00:00"
         },
         {
          "Count": 52,
          "Device": "iphone 4s",
          "Week": "2014-06-16T00:00:00"
         },
         {
          "Count": 143,
          "Device": "iphone 5",
          "Week": "2014-06-16T00:00:00"
         },
         {
          "Count": 78,
          "Device": "iphone 5s",
          "Week": "2014-06-16T00:00:00"
         },
         {
          "Count": 38,
          "Device": "nexus 10",
          "Week": "2014-06-16T00:00:00"
         },
         {
          "Count": 85,
          "Device": "nexus 5",
          "Week": "2014-06-16T00:00:00"
         },
         {
          "Count": 47,
          "Device": "nexus 7",
          "Week": "2014-06-16T00:00:00"
         },
         {
          "Count": 32,
          "Device": "nokia lumia 635",
          "Week": "2014-06-16T00:00:00"
         },
         {
          "Count": 102,
          "Device": "samsung galaxy s4",
          "Week": "2014-06-16T00:00:00"
         },
         {
          "Count": 12,
          "Device": "amazon fire phone",
          "Week": "2014-06-23T00:00:00"
         },
         {
          "Count": 20,
          "Device": "htc one",
          "Week": "2014-06-23T00:00:00"
         },
         {
          "Count": 39,
          "Device": "iphone 4s",
          "Week": "2014-06-23T00:00:00"
         },
         {
          "Count": 134,
          "Device": "iphone 5",
          "Week": "2014-06-23T00:00:00"
         },
         {
          "Count": 80,
          "Device": "iphone 5s",
          "Week": "2014-06-23T00:00:00"
         },
         {
          "Count": 30,
          "Device": "nexus 10",
          "Week": "2014-06-23T00:00:00"
         },
         {
          "Count": 90,
          "Device": "nexus 5",
          "Week": "2014-06-23T00:00:00"
         },
         {
          "Count": 49,
          "Device": "nexus 7",
          "Week": "2014-06-23T00:00:00"
         },
         {
          "Count": 37,
          "Device": "nokia lumia 635",
          "Week": "2014-06-23T00:00:00"
         },
         {
          "Count": 100,
          "Device": "samsung galaxy s4",
          "Week": "2014-06-23T00:00:00"
         },
         {
          "Count": 13,
          "Device": "amazon fire phone",
          "Week": "2014-06-30T00:00:00"
         },
         {
          "Count": 23,
          "Device": "htc one",
          "Week": "2014-06-30T00:00:00"
         },
         {
          "Count": 49,
          "Device": "iphone 4s",
          "Week": "2014-06-30T00:00:00"
         },
         {
          "Count": 150,
          "Device": "iphone 5",
          "Week": "2014-06-30T00:00:00"
         },
         {
          "Count": 92,
          "Device": "iphone 5s",
          "Week": "2014-06-30T00:00:00"
         },
         {
          "Count": 29,
          "Device": "nexus 10",
          "Week": "2014-06-30T00:00:00"
         },
         {
          "Count": 86,
          "Device": "nexus 5",
          "Week": "2014-06-30T00:00:00"
         },
         {
          "Count": 45,
          "Device": "nexus 7",
          "Week": "2014-06-30T00:00:00"
         },
         {
          "Count": 41,
          "Device": "nokia lumia 635",
          "Week": "2014-06-30T00:00:00"
         },
         {
          "Count": 114,
          "Device": "samsung galaxy s4",
          "Week": "2014-06-30T00:00:00"
         },
         {
          "Count": 10,
          "Device": "amazon fire phone",
          "Week": "2014-07-07T00:00:00"
         },
         {
          "Count": 28,
          "Device": "htc one",
          "Week": "2014-07-07T00:00:00"
         },
         {
          "Count": 68,
          "Device": "iphone 4s",
          "Week": "2014-07-07T00:00:00"
         },
         {
          "Count": 159,
          "Device": "iphone 5",
          "Week": "2014-07-07T00:00:00"
         },
         {
          "Count": 79,
          "Device": "iphone 5s",
          "Week": "2014-07-07T00:00:00"
         },
         {
          "Count": 38,
          "Device": "nexus 10",
          "Week": "2014-07-07T00:00:00"
         },
         {
          "Count": 83,
          "Device": "nexus 5",
          "Week": "2014-07-07T00:00:00"
         },
         {
          "Count": 41,
          "Device": "nexus 7",
          "Week": "2014-07-07T00:00:00"
         },
         {
          "Count": 31,
          "Device": "nokia lumia 635",
          "Week": "2014-07-07T00:00:00"
         },
         {
          "Count": 119,
          "Device": "samsung galaxy s4",
          "Week": "2014-07-07T00:00:00"
         },
         {
          "Count": 6,
          "Device": "amazon fire phone",
          "Week": "2014-07-14T00:00:00"
         },
         {
          "Count": 26,
          "Device": "htc one",
          "Week": "2014-07-14T00:00:00"
         },
         {
          "Count": 58,
          "Device": "iphone 4s",
          "Week": "2014-07-14T00:00:00"
         },
         {
          "Count": 148,
          "Device": "iphone 5",
          "Week": "2014-07-14T00:00:00"
         },
         {
          "Count": 93,
          "Device": "iphone 5s",
          "Week": "2014-07-14T00:00:00"
         },
         {
          "Count": 28,
          "Device": "nexus 10",
          "Week": "2014-07-14T00:00:00"
         },
         {
          "Count": 83,
          "Device": "nexus 5",
          "Week": "2014-07-14T00:00:00"
         },
         {
          "Count": 39,
          "Device": "nexus 7",
          "Week": "2014-07-14T00:00:00"
         },
         {
          "Count": 34,
          "Device": "nokia lumia 635",
          "Week": "2014-07-14T00:00:00"
         },
         {
          "Count": 120,
          "Device": "samsung galaxy s4",
          "Week": "2014-07-14T00:00:00"
         },
         {
          "Count": 12,
          "Device": "amazon fire phone",
          "Week": "2014-07-21T00:00:00"
         },
         {
          "Count": 32,
          "Device": "htc one",
          "Week": "2014-07-21T00:00:00"
         },
         {
          "Count": 61,
          "Device": "iphone 4s",
          "Week": "2014-07-21T00:00:00"
         },
         {
          "Count": 147,
          "Device": "iphone 5",
          "Week": "2014-07-21T00:00:00"
         },
         {
          "Count": 92,
          "Device": "iphone 5s",
          "Week": "2014-07-21T00:00:00"
         },
         {
          "Count": 25,
          "Device": "nexus 10",
          "Week": "2014-07-21T00:00:00"
         },
         {
          "Count": 81,
          "Device": "nexus 5",
          "Week": "2014-07-21T00:00:00"
         },
         {
          "Count": 43,
          "Device": "nexus 7",
          "Week": "2014-07-21T00:00:00"
         },
         {
          "Count": 42,
          "Device": "nokia lumia 635",
          "Week": "2014-07-21T00:00:00"
         },
         {
          "Count": 117,
          "Device": "samsung galaxy s4",
          "Week": "2014-07-21T00:00:00"
         },
         {
          "Count": 12,
          "Device": "amazon fire phone",
          "Week": "2014-07-28T00:00:00"
         },
         {
          "Count": 30,
          "Device": "htc one",
          "Week": "2014-07-28T00:00:00"
         },
         {
          "Count": 63,
          "Device": "iphone 4s",
          "Week": "2014-07-28T00:00:00"
         },
         {
          "Count": 151,
          "Device": "iphone 5",
          "Week": "2014-07-28T00:00:00"
         },
         {
          "Count": 100,
          "Device": "iphone 5s",
          "Week": "2014-07-28T00:00:00"
         },
         {
          "Count": 35,
          "Device": "nexus 10",
          "Week": "2014-07-28T00:00:00"
         },
         {
          "Count": 81,
          "Device": "nexus 5",
          "Week": "2014-07-28T00:00:00"
         },
         {
          "Count": 60,
          "Device": "nexus 7",
          "Week": "2014-07-28T00:00:00"
         },
         {
          "Count": 33,
          "Device": "nokia lumia 635",
          "Week": "2014-07-28T00:00:00"
         },
         {
          "Count": 104,
          "Device": "samsung galaxy s4",
          "Week": "2014-07-28T00:00:00"
         },
         {
          "Count": 14,
          "Device": "amazon fire phone",
          "Week": "2014-08-04T00:00:00"
         },
         {
          "Count": 13,
          "Device": "htc one",
          "Week": "2014-08-04T00:00:00"
         },
         {
          "Count": 52,
          "Device": "iphone 4s",
          "Week": "2014-08-04T00:00:00"
         },
         {
          "Count": 133,
          "Device": "iphone 5",
          "Week": "2014-08-04T00:00:00"
         },
         {
          "Count": 71,
          "Device": "iphone 5s",
          "Week": "2014-08-04T00:00:00"
         },
         {
          "Count": 19,
          "Device": "nexus 10",
          "Week": "2014-08-04T00:00:00"
         },
         {
          "Count": 65,
          "Device": "nexus 5",
          "Week": "2014-08-04T00:00:00"
         },
         {
          "Count": 39,
          "Device": "nexus 7",
          "Week": "2014-08-04T00:00:00"
         },
         {
          "Count": 30,
          "Device": "nokia lumia 635",
          "Week": "2014-08-04T00:00:00"
         },
         {
          "Count": 99,
          "Device": "samsung galaxy s4",
          "Week": "2014-08-04T00:00:00"
         },
         {
          "Count": 12,
          "Device": "amazon fire phone",
          "Week": "2014-08-11T00:00:00"
         },
         {
          "Count": 18,
          "Device": "htc one",
          "Week": "2014-08-11T00:00:00"
         },
         {
          "Count": 35,
          "Device": "iphone 4s",
          "Week": "2014-08-11T00:00:00"
         },
         {
          "Count": 119,
          "Device": "iphone 5",
          "Week": "2014-08-11T00:00:00"
         },
         {
          "Count": 65,
          "Device": "iphone 5s",
          "Week": "2014-08-11T00:00:00"
         },
         {
          "Count": 31,
          "Device": "nexus 10",
          "Week": "2014-08-11T00:00:00"
         },
         {
          "Count": 66,
          "Device": "nexus 5",
          "Week": "2014-08-11T00:00:00"
         },
         {
          "Count": 24,
          "Device": "nexus 7",
          "Week": "2014-08-11T00:00:00"
         },
         {
          "Count": 26,
          "Device": "nokia lumia 635",
          "Week": "2014-08-11T00:00:00"
         },
         {
          "Count": 85,
          "Device": "samsung galaxy s4",
          "Week": "2014-08-11T00:00:00"
         },
         {
          "Count": 14,
          "Device": "amazon fire phone",
          "Week": "2014-08-18T00:00:00"
         },
         {
          "Count": 19,
          "Device": "htc one",
          "Week": "2014-08-18T00:00:00"
         },
         {
          "Count": 34,
          "Device": "iphone 4s",
          "Week": "2014-08-18T00:00:00"
         },
         {
          "Count": 105,
          "Device": "iphone 5",
          "Week": "2014-08-18T00:00:00"
         },
         {
          "Count": 69,
          "Device": "iphone 5s",
          "Week": "2014-08-18T00:00:00"
         },
         {
          "Count": 22,
          "Device": "nexus 10",
          "Week": "2014-08-18T00:00:00"
         },
         {
          "Count": 71,
          "Device": "nexus 5",
          "Week": "2014-08-18T00:00:00"
         },
         {
          "Count": 29,
          "Device": "nexus 7",
          "Week": "2014-08-18T00:00:00"
         },
         {
          "Count": 27,
          "Device": "nokia lumia 635",
          "Week": "2014-08-18T00:00:00"
         },
         {
          "Count": 76,
          "Device": "samsung galaxy s4",
          "Week": "2014-08-18T00:00:00"
         },
         {
          "Count": 11,
          "Device": "amazon fire phone",
          "Week": "2014-08-25T00:00:00"
         },
         {
          "Count": 26,
          "Device": "htc one",
          "Week": "2014-08-25T00:00:00"
         },
         {
          "Count": 50,
          "Device": "iphone 4s",
          "Week": "2014-08-25T00:00:00"
         },
         {
          "Count": 100,
          "Device": "iphone 5",
          "Week": "2014-08-25T00:00:00"
         },
         {
          "Count": 68,
          "Device": "iphone 5s",
          "Week": "2014-08-25T00:00:00"
         },
         {
          "Count": 23,
          "Device": "nexus 10",
          "Week": "2014-08-25T00:00:00"
         },
         {
          "Count": 67,
          "Device": "nexus 5",
          "Week": "2014-08-25T00:00:00"
         },
         {
          "Count": 31,
          "Device": "nexus 7",
          "Week": "2014-08-25T00:00:00"
         },
         {
          "Count": 17,
          "Device": "nokia lumia 635",
          "Week": "2014-08-25T00:00:00"
         },
         {
          "Count": 89,
          "Device": "samsung galaxy s4",
          "Week": "2014-08-25T00:00:00"
         }
        ]
       },
       "encoding": {
        "color": {
         "field": "Device",
         "type": "nominal"
        },
        "x": {
         "field": "Week",
         "type": "temporal"
        },
        "y": {
         "field": "Count",
         "type": "quantitative"
        }
       },
       "mark": "line"
      },
      "image/png": "[encoded data removed]",
      "text/plain": [
       "<VegaLite 2 object>\n",
       "\n",
       "If you see this message, it means the renderer has not been properly enabled\n",
       "for the frontend that you are using. For more information, see\n",
       "https://altair-viz.github.io/user_guide/troubleshooting.html\n"
      ]
     },
     "execution_count": 105,
     "metadata": {},
     "output_type": "execute_result"
    }
   ],
   "source": [
    "alt.Chart(phone_engagements_summary).mark_line().encode(\n",
    "    x='Week',\n",
    "    y='Count',\n",
    "    color='Device'\n",
    ")"
   ]
  },
  {
   "cell_type": "markdown",
   "metadata": {},
   "source": [
    "This trend seems generally uniform across devices, at least for those with enough observations to be meaningful.  Devices with few observations (e.g., Amazon Fire, HTC One) don't show the same trend, but there aren't enough data for them to be interpreted easily."
   ]
  },
  {
   "cell_type": "markdown",
   "metadata": {},
   "source": [
    "### Email events\n",
    "\n",
    "Above I found that engagements on smartphones showed a much larger dropoff than engagements on other platforms.  Here I investigate how email engagements changed over the period."
   ]
  },
  {
   "cell_type": "code",
   "execution_count": 82,
   "metadata": {},
   "outputs": [
    {
     "data": {
      "text/html": [
       "<div>\n",
       "<style scoped>\n",
       "    .dataframe tbody tr th:only-of-type {\n",
       "        vertical-align: middle;\n",
       "    }\n",
       "\n",
       "    .dataframe tbody tr th {\n",
       "        vertical-align: top;\n",
       "    }\n",
       "\n",
       "    .dataframe thead th {\n",
       "        text-align: right;\n",
       "    }\n",
       "</style>\n",
       "<table border=\"1\" class=\"dataframe\">\n",
       "  <thead>\n",
       "    <tr style=\"text-align: right;\">\n",
       "      <th></th>\n",
       "      <th>Week</th>\n",
       "      <th>Action</th>\n",
       "      <th>Count</th>\n",
       "    </tr>\n",
       "  </thead>\n",
       "  <tbody>\n",
       "    <tr>\n",
       "      <th>0</th>\n",
       "      <td>2014-04-28</td>\n",
       "      <td>email_clickthrough</td>\n",
       "      <td>187</td>\n",
       "    </tr>\n",
       "    <tr>\n",
       "      <th>1</th>\n",
       "      <td>2014-04-28</td>\n",
       "      <td>email_open</td>\n",
       "      <td>332</td>\n",
       "    </tr>\n",
       "    <tr>\n",
       "      <th>2</th>\n",
       "      <td>2014-05-05</td>\n",
       "      <td>email_clickthrough</td>\n",
       "      <td>431</td>\n",
       "    </tr>\n",
       "    <tr>\n",
       "      <th>3</th>\n",
       "      <td>2014-05-05</td>\n",
       "      <td>email_open</td>\n",
       "      <td>910</td>\n",
       "    </tr>\n",
       "    <tr>\n",
       "      <th>4</th>\n",
       "      <td>2014-05-12</td>\n",
       "      <td>email_clickthrough</td>\n",
       "      <td>478</td>\n",
       "    </tr>\n",
       "  </tbody>\n",
       "</table>\n",
       "</div>"
      ],
      "text/plain": [
       "        Week              Action  Count\n",
       "0 2014-04-28  email_clickthrough    187\n",
       "1 2014-04-28          email_open    332\n",
       "2 2014-05-05  email_clickthrough    431\n",
       "3 2014-05-05          email_open    910\n",
       "4 2014-05-12  email_clickthrough    478"
      ]
     },
     "execution_count": 82,
     "metadata": {},
     "output_type": "execute_result"
    }
   ],
   "source": [
    "emails['week'] = emails.occurred_at.dt.to_period('W').dt.to_timestamp()\n",
    "email_engagements = emails[emails.action.isin(['email_open', 'email_clickthrough'])]\n",
    "email_engagements_summary = email_engagements.groupby(['week', 'action']).user_id.nunique().to_frame().reset_index()\n",
    "email_engagements_summary.columns = ['Week', 'Action', 'Count']\n",
    "email_engagements_summary.head()"
   ]
  },
  {
   "cell_type": "code",
   "execution_count": 84,
   "metadata": {},
   "outputs": [
    {
     "data": {
      "application/vnd.vegalite.v2+json": {
       "$schema": "https://vega.github.io/schema/vega-lite/v2.6.0.json",
       "config": {
        "view": {
         "height": 300,
         "width": 400
        }
       },
       "data": {
        "name": "data-30c653f3e6148c8a6e8937682b9ae3f2"
       },
       "datasets": {
        "data-30c653f3e6148c8a6e8937682b9ae3f2": [
         {
          "Action": "email_clickthrough",
          "Count": 187,
          "Week": "2014-04-28T00:00:00"
         },
         {
          "Action": "email_open",
          "Count": 332,
          "Week": "2014-04-28T00:00:00"
         },
         {
          "Action": "email_clickthrough",
          "Count": 431,
          "Week": "2014-05-05T00:00:00"
         },
         {
          "Action": "email_open",
          "Count": 910,
          "Week": "2014-05-05T00:00:00"
         },
         {
          "Action": "email_clickthrough",
          "Count": 478,
          "Week": "2014-05-12T00:00:00"
         },
         {
          "Action": "email_open",
          "Count": 961,
          "Week": "2014-05-12T00:00:00"
         },
         {
          "Action": "email_clickthrough",
          "Count": 495,
          "Week": "2014-05-19T00:00:00"
         },
         {
          "Action": "email_open",
          "Count": 984,
          "Week": "2014-05-19T00:00:00"
         },
         {
          "Action": "email_clickthrough",
          "Count": 447,
          "Week": "2014-05-26T00:00:00"
         },
         {
          "Action": "email_open",
          "Count": 1008,
          "Week": "2014-05-26T00:00:00"
         },
         {
          "Action": "email_clickthrough",
          "Count": 483,
          "Week": "2014-06-02T00:00:00"
         },
         {
          "Action": "email_open",
          "Count": 972,
          "Week": "2014-06-02T00:00:00"
         },
         {
          "Action": "email_clickthrough",
          "Count": 527,
          "Week": "2014-06-09T00:00:00"
         },
         {
          "Action": "email_open",
          "Count": 1058,
          "Week": "2014-06-09T00:00:00"
         },
         {
          "Action": "email_clickthrough",
          "Count": 558,
          "Week": "2014-06-16T00:00:00"
         },
         {
          "Action": "email_open",
          "Count": 1144,
          "Week": "2014-06-16T00:00:00"
         },
         {
          "Action": "email_clickthrough",
          "Count": 517,
          "Week": "2014-06-23T00:00:00"
         },
         {
          "Action": "email_open",
          "Count": 1080,
          "Week": "2014-06-23T00:00:00"
         },
         {
          "Action": "email_clickthrough",
          "Count": 554,
          "Week": "2014-06-30T00:00:00"
         },
         {
          "Action": "email_open",
          "Count": 1157,
          "Week": "2014-06-30T00:00:00"
         },
         {
          "Action": "email_clickthrough",
          "Count": 619,
          "Week": "2014-07-07T00:00:00"
         },
         {
          "Action": "email_open",
          "Count": 1215,
          "Week": "2014-07-07T00:00:00"
         },
         {
          "Action": "email_clickthrough",
          "Count": 604,
          "Week": "2014-07-14T00:00:00"
         },
         {
          "Action": "email_open",
          "Count": 1244,
          "Week": "2014-07-14T00:00:00"
         },
         {
          "Action": "email_clickthrough",
          "Count": 578,
          "Week": "2014-07-21T00:00:00"
         },
         {
          "Action": "email_open",
          "Count": 1200,
          "Week": "2014-07-21T00:00:00"
         },
         {
          "Action": "email_clickthrough",
          "Count": 629,
          "Week": "2014-07-28T00:00:00"
         },
         {
          "Action": "email_open",
          "Count": 1372,
          "Week": "2014-07-28T00:00:00"
         },
         {
          "Action": "email_clickthrough",
          "Count": 431,
          "Week": "2014-08-04T00:00:00"
         },
         {
          "Action": "email_open",
          "Count": 1328,
          "Week": "2014-08-04T00:00:00"
         },
         {
          "Action": "email_clickthrough",
          "Count": 429,
          "Week": "2014-08-11T00:00:00"
         },
         {
          "Action": "email_open",
          "Count": 1341,
          "Week": "2014-08-11T00:00:00"
         },
         {
          "Action": "email_clickthrough",
          "Count": 487,
          "Week": "2014-08-18T00:00:00"
         },
         {
          "Action": "email_open",
          "Count": 1411,
          "Week": "2014-08-18T00:00:00"
         },
         {
          "Action": "email_clickthrough",
          "Count": 485,
          "Week": "2014-08-25T00:00:00"
         },
         {
          "Action": "email_open",
          "Count": 1511,
          "Week": "2014-08-25T00:00:00"
         }
        ]
       },
       "encoding": {
        "color": {
         "field": "Action",
         "type": "nominal"
        },
        "x": {
         "field": "Week",
         "type": "temporal"
        },
        "y": {
         "field": "Count",
         "type": "quantitative"
        }
       },
       "mark": "line"
      },
      "image/png": "[encoded data removed]",
      "text/plain": [
       "<VegaLite 2 object>\n",
       "\n",
       "If you see this message, it means the renderer has not been properly enabled\n",
       "for the frontend that you are using. For more information, see\n",
       "https://altair-viz.github.io/user_guide/troubleshooting.html\n"
      ]
     },
     "execution_count": 84,
     "metadata": {},
     "output_type": "execute_result"
    }
   ],
   "source": [
    "alt.Chart(email_engagements_summary).mark_line().encode(\n",
    "    x='Week',\n",
    "    y='Count',\n",
    "    color='Action'\n",
    ")"
   ]
  },
  {
   "cell_type": "markdown",
   "metadata": {},
   "source": [
    "From this is clear that there was a significant drop off in email clickthrough to the platform, but no drop off in email opens. The number of opened emails increased throughout August, but people were not clicking through at the same rate.\n",
    "\n",
    "**Some hypotheses for the causes of this:**\n",
    "1. Vacation: August is a common time for vacation. People received emails, but did not click through because they were not at work.\n",
    "2. Drop in email quality: A change in email content in August led to less overall engagement"
   ]
  },
  {
   "cell_type": "code",
   "execution_count": 106,
   "metadata": {},
   "outputs": [
    {
     "data": {
      "text/plain": [
       "array(['sent_weekly_digest', 'email_open', 'email_clickthrough',\n",
       "       'sent_reengagement_email'], dtype=object)"
      ]
     },
     "execution_count": 106,
     "metadata": {},
     "output_type": "execute_result"
    }
   ],
   "source": [
    "emails.action.unique()"
   ]
  },
  {
   "cell_type": "code",
   "execution_count": null,
   "metadata": {},
   "outputs": [],
   "source": []
  }
 ],
 "metadata": {
  "kernelspec": {
   "display_name": "Insight",
   "language": "python",
   "name": "insight"
  },
  "language_info": {
   "codemirror_mode": {
    "name": "ipython",
    "version": 3
   },
   "file_extension": ".py",
   "mimetype": "text/x-python",
   "name": "python",
   "nbconvert_exporter": "python",
   "pygments_lexer": "ipython3",
   "version": "3.6.5"
  },
  "varInspector": {
   "cols": {
    "lenName": 16,
    "lenType": 16,
    "lenVar": 40
   },
   "kernels_config": {
    "python": {
     "delete_cmd_postfix": "",
     "delete_cmd_prefix": "del ",
     "library": "var_list.py",
     "varRefreshCmd": "print(var_dic_list())"
    },
    "r": {
     "delete_cmd_postfix": ") ",
     "delete_cmd_prefix": "rm(",
     "library": "var_list.r",
     "varRefreshCmd": "cat(var_dic_list()) "
    }
   },
   "position": {
    "height": "450.208px",
    "left": "1198.09px",
    "right": "20px",
    "top": "31.9722px",
    "width": "336.771px"
   },
   "types_to_exclude": [
    "module",
    "function",
    "builtin_function_or_method",
    "instance",
    "_Feature"
   ],
   "window_display": true
  }
 },
 "nbformat": 4,
 "nbformat_minor": 2
}
