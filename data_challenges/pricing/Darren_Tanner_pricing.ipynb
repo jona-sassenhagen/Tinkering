{
 "cells": [
  {
   "cell_type": "markdown",
   "metadata": {},
   "source": [
    "# Pricing test data challenge\n",
    "\n",
    "#### *Darren Tanner*\n",
    "\n",
    "### Goals\n",
    "The goal of this data analysis is to asses the following:\n",
    "1. Whether the price increase associated with a test group in an A/B test leads to higher revenue\n",
    "2. Whether the price increase has different effects/outcomes in different user segments\n",
    "\n",
    "### Findings\n",
    "* The increased price (\\$59) for the test group led to a lower conversion rate (0.016\\%) compared to the control group given our standard price (0.020\\%)\n",
    "* This decrease in conversion rate was offset by increased average revenue per user in the test group (increase of \\$0.14 revenue per user)\n",
    "* The revenue per user was highest in the test group for users on mobile devices, followed by web users in the test group. Platform made no difference for users in the control group\n",
    "\n",
    "## Recommendations\n",
    "1. Increasing the price to $59 can lead to higher revenue. Lower conversion rates are offset by higher margins and revenue per user. However, this may lead over time to a decrease in users. This trade-off needs to be addressed with marketing efforts to help offset customer losses.\n",
    "2. If the price increase is implemented, marketing efforts should heavily web users in order offset the loss in conversions.\n",
    "3. Additional analyses should also investigate conversion rate as a function of time, as well as source of users. A downtrend in conversions over time witht he higher price could nullify the recommendation to implement the price increase."
   ]
  },
  {
   "cell_type": "code",
   "execution_count": 6,
   "metadata": {},
   "outputs": [],
   "source": [
    "## Import packages and data"
   ]
  },
  {
   "cell_type": "code",
   "execution_count": 1,
   "metadata": {},
   "outputs": [],
   "source": [
    "import pandas as pd\n",
    "import numpy as np\n",
    "import altair as alt\n",
    "alt.data_transformers.enable('json')\n",
    "from altair.expr import datum, if_\n",
    "import pandas_profiling\n",
    "from scipy.stats import chi2_contingency as chi2"
   ]
  },
  {
   "cell_type": "code",
   "execution_count": 2,
   "metadata": {},
   "outputs": [],
   "source": [
    "data = pd.read_csv('test_results.csv', parse_dates=[1])\n",
    "users = pd.read_csv('user_table.csv')"
   ]
  },
  {
   "cell_type": "markdown",
   "metadata": {},
   "source": [
    "### Calculate conversion rates and Revenue Per User (RPU) in the control and test groups"
   ]
  },
  {
   "cell_type": "code",
   "execution_count": 3,
   "metadata": {},
   "outputs": [
    {
     "data": {
      "text/html": [
       "<div>\n",
       "<style scoped>\n",
       "    .dataframe tbody tr th:only-of-type {\n",
       "        vertical-align: middle;\n",
       "    }\n",
       "\n",
       "    .dataframe tbody tr th {\n",
       "        vertical-align: top;\n",
       "    }\n",
       "\n",
       "    .dataframe thead th {\n",
       "        text-align: right;\n",
       "    }\n",
       "</style>\n",
       "<table border=\"1\" class=\"dataframe\">\n",
       "  <thead>\n",
       "    <tr style=\"text-align: right;\">\n",
       "      <th></th>\n",
       "      <th>user_id</th>\n",
       "      <th>timestamp</th>\n",
       "      <th>source</th>\n",
       "      <th>device</th>\n",
       "      <th>operative_system</th>\n",
       "      <th>test</th>\n",
       "      <th>price</th>\n",
       "      <th>converted</th>\n",
       "    </tr>\n",
       "  </thead>\n",
       "  <tbody>\n",
       "    <tr>\n",
       "      <th>0</th>\n",
       "      <td>604839</td>\n",
       "      <td>2015-05-08 03:38:34</td>\n",
       "      <td>ads_facebook</td>\n",
       "      <td>mobile</td>\n",
       "      <td>iOS</td>\n",
       "      <td>0</td>\n",
       "      <td>39</td>\n",
       "      <td>0</td>\n",
       "    </tr>\n",
       "    <tr>\n",
       "      <th>1</th>\n",
       "      <td>624057</td>\n",
       "      <td>2015-05-10 21:08:46</td>\n",
       "      <td>seo-google</td>\n",
       "      <td>mobile</td>\n",
       "      <td>android</td>\n",
       "      <td>0</td>\n",
       "      <td>39</td>\n",
       "      <td>0</td>\n",
       "    </tr>\n",
       "    <tr>\n",
       "      <th>2</th>\n",
       "      <td>317970</td>\n",
       "      <td>2015-04-04 15:01:23</td>\n",
       "      <td>ads-bing</td>\n",
       "      <td>mobile</td>\n",
       "      <td>android</td>\n",
       "      <td>0</td>\n",
       "      <td>39</td>\n",
       "      <td>0</td>\n",
       "    </tr>\n",
       "    <tr>\n",
       "      <th>3</th>\n",
       "      <td>685636</td>\n",
       "      <td>2015-05-07 07:26:01</td>\n",
       "      <td>direct_traffic</td>\n",
       "      <td>mobile</td>\n",
       "      <td>iOS</td>\n",
       "      <td>1</td>\n",
       "      <td>59</td>\n",
       "      <td>0</td>\n",
       "    </tr>\n",
       "    <tr>\n",
       "      <th>4</th>\n",
       "      <td>820854</td>\n",
       "      <td>2015-05-24 11:04:40</td>\n",
       "      <td>ads_facebook</td>\n",
       "      <td>web</td>\n",
       "      <td>mac</td>\n",
       "      <td>0</td>\n",
       "      <td>39</td>\n",
       "      <td>0</td>\n",
       "    </tr>\n",
       "  </tbody>\n",
       "</table>\n",
       "</div>"
      ],
      "text/plain": [
       "   user_id            timestamp          source  device operative_system  \\\n",
       "0   604839  2015-05-08 03:38:34    ads_facebook  mobile              iOS   \n",
       "1   624057  2015-05-10 21:08:46      seo-google  mobile          android   \n",
       "2   317970  2015-04-04 15:01:23        ads-bing  mobile          android   \n",
       "3   685636  2015-05-07 07:26:01  direct_traffic  mobile              iOS   \n",
       "4   820854  2015-05-24 11:04:40    ads_facebook     web              mac   \n",
       "\n",
       "   test  price  converted  \n",
       "0     0     39          0  \n",
       "1     0     39          0  \n",
       "2     0     39          0  \n",
       "3     1     59          0  \n",
       "4     0     39          0  "
      ]
     },
     "execution_count": 3,
     "metadata": {},
     "output_type": "execute_result"
    }
   ],
   "source": [
    "data.head()"
   ]
  },
  {
   "cell_type": "code",
   "execution_count": 5,
   "metadata": {},
   "outputs": [
    {
     "data": {
      "text/html": [
       "<div>\n",
       "<style scoped>\n",
       "    .dataframe tbody tr th:only-of-type {\n",
       "        vertical-align: middle;\n",
       "    }\n",
       "\n",
       "    .dataframe tbody tr th {\n",
       "        vertical-align: top;\n",
       "    }\n",
       "\n",
       "    .dataframe thead th {\n",
       "        text-align: right;\n",
       "    }\n",
       "</style>\n",
       "<table border=\"1\" class=\"dataframe\">\n",
       "  <thead>\n",
       "    <tr style=\"text-align: right;\">\n",
       "      <th>test</th>\n",
       "      <th>0</th>\n",
       "      <th>1</th>\n",
       "    </tr>\n",
       "    <tr>\n",
       "      <th>price</th>\n",
       "      <th></th>\n",
       "      <th></th>\n",
       "    </tr>\n",
       "  </thead>\n",
       "  <tbody>\n",
       "    <tr>\n",
       "      <th>39</th>\n",
       "      <td>202517</td>\n",
       "      <td>155</td>\n",
       "    </tr>\n",
       "    <tr>\n",
       "      <th>59</th>\n",
       "      <td>210</td>\n",
       "      <td>113918</td>\n",
       "    </tr>\n",
       "  </tbody>\n",
       "</table>\n",
       "</div>"
      ],
      "text/plain": [
       "test        0       1\n",
       "price                \n",
       "39     202517     155\n",
       "59        210  113918"
      ]
     },
     "execution_count": 5,
     "metadata": {},
     "output_type": "execute_result"
    }
   ],
   "source": [
    "# Check that price and test group line up\n",
    "pd.crosstab(index=data['price'], columns=data['test'])"
   ]
  },
  {
   "cell_type": "code",
   "execution_count": 11,
   "metadata": {},
   "outputs": [],
   "source": [
    "# These are errors.  Throw out these observations.\n",
    "data = data[((data['test'] == 0) & (data['price'] == 39)) | ((data['test'] == 1) & (data['price'] == 59))]"
   ]
  },
  {
   "cell_type": "code",
   "execution_count": 12,
   "metadata": {},
   "outputs": [],
   "source": [
    "# Some preliminary data exploration\n",
    "num_no_test = data.groupby('test').count().user_id.iloc[0]\n",
    "num_test = data.groupby('test').count().user_id.iloc[1]\n",
    "grouped_data = data.groupby(['test', 'converted']).count().user_id.reset_index()\n",
    "grouped_data.columns = ['Test', 'Converted', 'Count']\n",
    "grouped_data.loc[grouped_data['Test'] == 0, 'Percent Conversion'] = grouped_data.Count/num_no_test\n",
    "grouped_data.loc[grouped_data['Test'] == 1, 'Percent Conversion'] = grouped_data.Count/num_test"
   ]
  },
  {
   "cell_type": "code",
   "execution_count": 13,
   "metadata": {},
   "outputs": [
    {
     "data": {
      "text/html": [
       "<div>\n",
       "<style scoped>\n",
       "    .dataframe tbody tr th:only-of-type {\n",
       "        vertical-align: middle;\n",
       "    }\n",
       "\n",
       "    .dataframe tbody tr th {\n",
       "        vertical-align: top;\n",
       "    }\n",
       "\n",
       "    .dataframe thead th {\n",
       "        text-align: right;\n",
       "    }\n",
       "</style>\n",
       "<table border=\"1\" class=\"dataframe\">\n",
       "  <thead>\n",
       "    <tr style=\"text-align: right;\">\n",
       "      <th></th>\n",
       "      <th>Test</th>\n",
       "      <th>Converted</th>\n",
       "      <th>Count</th>\n",
       "      <th>Percent Conversion</th>\n",
       "    </tr>\n",
       "  </thead>\n",
       "  <tbody>\n",
       "    <tr>\n",
       "      <th>0</th>\n",
       "      <td>0</td>\n",
       "      <td>0</td>\n",
       "      <td>198487</td>\n",
       "      <td>0.980100</td>\n",
       "    </tr>\n",
       "    <tr>\n",
       "      <th>1</th>\n",
       "      <td>0</td>\n",
       "      <td>1</td>\n",
       "      <td>4030</td>\n",
       "      <td>0.019900</td>\n",
       "    </tr>\n",
       "    <tr>\n",
       "      <th>2</th>\n",
       "      <td>1</td>\n",
       "      <td>0</td>\n",
       "      <td>112146</td>\n",
       "      <td>0.984445</td>\n",
       "    </tr>\n",
       "    <tr>\n",
       "      <th>3</th>\n",
       "      <td>1</td>\n",
       "      <td>1</td>\n",
       "      <td>1772</td>\n",
       "      <td>0.015555</td>\n",
       "    </tr>\n",
       "  </tbody>\n",
       "</table>\n",
       "</div>"
      ],
      "text/plain": [
       "   Test  Converted   Count  Percent Conversion\n",
       "0     0          0  198487            0.980100\n",
       "1     0          1    4030            0.019900\n",
       "2     1          0  112146            0.984445\n",
       "3     1          1    1772            0.015555"
      ]
     },
     "execution_count": 13,
     "metadata": {},
     "output_type": "execute_result"
    }
   ],
   "source": [
    "grouped_data"
   ]
  },
  {
   "cell_type": "code",
   "execution_count": 14,
   "metadata": {},
   "outputs": [
    {
     "name": "stdout",
     "output_type": "stream",
     "text": [
      "76.21203591082431 2.5478408500937737e-18 1\n"
     ]
    }
   ],
   "source": [
    "# Chi squre test for ratio of conversions\n",
    "conversion_table = pd.crosstab(index=data['test'], columns=data['converted'])\n",
    "c2, p, dof, __ = chi2(conversion_table)\n",
    "print(c2, p, dof)"
   ]
  },
  {
   "cell_type": "markdown",
   "metadata": {},
   "source": [
    "A somewhat higher proportion of users in the control group converted. The proportion of conversions is statistically significant between the two groups (*p* < .001). But this does not mean that this was bad for revenue. Let's look at revenue per user in each group to get an idea of whether the higher price in the test group led to increased revenue."
   ]
  },
  {
   "cell_type": "code",
   "execution_count": 15,
   "metadata": {},
   "outputs": [],
   "source": [
    "grouped_data['Total Revenue'] = ''\n",
    "grouped_data.loc[grouped_data['Test'] == 0, 'Total Revenue'] = grouped_data[grouped_data.Test == 0].Count*39\n",
    "grouped_data.loc[grouped_data['Test'] == 1, 'Total Revenue'] = grouped_data[grouped_data.Test == 1].Count*59\n",
    "grouped_data['Avg. Revenue per User'] = ''\n",
    "grouped_data.loc[grouped_data['Test'] == 0, 'Avg. Revenue per User'] = grouped_data[grouped_data.Test == 0]['Total Revenue']/num_no_test\n",
    "grouped_data.loc[grouped_data['Test'] == 1, 'Avg. Revenue per User'] = grouped_data[grouped_data.Test == 1]['Total Revenue']/num_test"
   ]
  },
  {
   "cell_type": "code",
   "execution_count": 16,
   "metadata": {},
   "outputs": [
    {
     "data": {
      "text/html": [
       "<div>\n",
       "<style scoped>\n",
       "    .dataframe tbody tr th:only-of-type {\n",
       "        vertical-align: middle;\n",
       "    }\n",
       "\n",
       "    .dataframe tbody tr th {\n",
       "        vertical-align: top;\n",
       "    }\n",
       "\n",
       "    .dataframe thead th {\n",
       "        text-align: right;\n",
       "    }\n",
       "</style>\n",
       "<table border=\"1\" class=\"dataframe\">\n",
       "  <thead>\n",
       "    <tr style=\"text-align: right;\">\n",
       "      <th></th>\n",
       "      <th>Test</th>\n",
       "      <th>Converted</th>\n",
       "      <th>Count</th>\n",
       "      <th>Percent Conversion</th>\n",
       "      <th>Total Revenue</th>\n",
       "      <th>Avg. Revenue per User</th>\n",
       "    </tr>\n",
       "  </thead>\n",
       "  <tbody>\n",
       "    <tr>\n",
       "      <th>0</th>\n",
       "      <td>0</td>\n",
       "      <td>0</td>\n",
       "      <td>198487</td>\n",
       "      <td>0.980100</td>\n",
       "      <td>7740993</td>\n",
       "      <td>38.2239</td>\n",
       "    </tr>\n",
       "    <tr>\n",
       "      <th>1</th>\n",
       "      <td>0</td>\n",
       "      <td>1</td>\n",
       "      <td>4030</td>\n",
       "      <td>0.019900</td>\n",
       "      <td>157170</td>\n",
       "      <td>0.776083</td>\n",
       "    </tr>\n",
       "    <tr>\n",
       "      <th>2</th>\n",
       "      <td>1</td>\n",
       "      <td>0</td>\n",
       "      <td>112146</td>\n",
       "      <td>0.984445</td>\n",
       "      <td>6616614</td>\n",
       "      <td>58.0823</td>\n",
       "    </tr>\n",
       "    <tr>\n",
       "      <th>3</th>\n",
       "      <td>1</td>\n",
       "      <td>1</td>\n",
       "      <td>1772</td>\n",
       "      <td>0.015555</td>\n",
       "      <td>104548</td>\n",
       "      <td>0.917748</td>\n",
       "    </tr>\n",
       "  </tbody>\n",
       "</table>\n",
       "</div>"
      ],
      "text/plain": [
       "   Test  Converted   Count  Percent Conversion  Total Revenue  \\\n",
       "0     0          0  198487            0.980100        7740993   \n",
       "1     0          1    4030            0.019900         157170   \n",
       "2     1          0  112146            0.984445        6616614   \n",
       "3     1          1    1772            0.015555         104548   \n",
       "\n",
       "  Avg. Revenue per User  \n",
       "0               38.2239  \n",
       "1              0.776083  \n",
       "2               58.0823  \n",
       "3              0.917748  "
      ]
     },
     "execution_count": 16,
     "metadata": {},
     "output_type": "execute_result"
    }
   ],
   "source": [
    "grouped_data"
   ]
  },
  {
   "cell_type": "markdown",
   "metadata": {},
   "source": [
    "**Here we can see that, even though a smaller proportion of users converted in the test ($59) group, the higher price offset this. There was higher average revenue per user in that group test group, who had the higher price. Total revenue in the test group was smaller, but this can be accoutned for by the lower number of users in the test group. This indicates that the higher price of the product license could increase overall revenue. However, below I investigate whether this increase is statistically significant by bootstrapping 95% confidence intervals of Revenue per User (RPU) for the control and test groups.**"
   ]
  },
  {
   "cell_type": "code",
   "execution_count": 17,
   "metadata": {},
   "outputs": [],
   "source": [
    "# Bootstrap CIs for RPU in the two groups\n",
    "\n",
    "# Initialize same variables\n",
    "n_samp = 10000\n",
    "control_samples = []\n",
    "test_samples = []\n",
    "control_data = data[data['test'] == 0]\n",
    "test_data = data[data['test'] == 1]\n",
    "\n",
    "# Bootstrap control cases\n",
    "for i in range(n_samp):\n",
    "    curr_samp = control_data.sample(n=control_data.shape[0], replace=True)\n",
    "    RPU = (sum(curr_samp.converted)*39)/curr_samp.shape[0]\n",
    "    control_samples.append(RPU)\n",
    "\n",
    "# Bootstrap test cases\n",
    "for i in range(n_samp):\n",
    "    curr_samp = test_data.sample(n=test_data.shape[0], replace=True)\n",
    "    RPU = (sum(curr_samp.converted)*59)/curr_samp.shape[0]\n",
    "    test_samples.append(RPU)\n",
    "    \n"
   ]
  },
  {
   "cell_type": "code",
   "execution_count": 18,
   "metadata": {},
   "outputs": [
    {
     "data": {
      "application/vnd.vegalite.v2+json": {
       "$schema": "https://vega.github.io/schema/vega-lite/v2.6.0.json",
       "config": {
        "view": {
         "height": 300,
         "width": 400
        }
       },
       "layer": [
        {
         "data": {
          "format": {
           "type": "json"
          },
          "url": "altair-data-ff26973a2d30d96c7110d90cd719e949.json"
         },
         "encoding": {
          "color": {
           "field": "Group",
           "type": "nominal"
          },
          "x": {
           "bin": {
            "maxbins": 100
           },
           "field": "RPU",
           "type": "quantitative"
          },
          "y": {
           "aggregate": "count",
           "stack": null,
           "type": "quantitative"
          }
         },
         "mark": {
          "interpolate": "step",
          "opacity": 0.7,
          "type": "area"
         }
        },
        {
         "data": {
          "format": {
           "type": "json"
          },
          "url": "altair-data-f6d025bfea02b38ca67eee6fb3082351.json"
         },
         "encoding": {
          "color": {
           "field": "Group",
           "type": "nominal"
          },
          "x": {
           "axis": {
            "title": "Revenue per User"
           },
           "field": "RPU",
           "type": "quantitative"
          }
         },
         "mark": "rule"
        }
       ]
      },
      "image/png": "[encoded data removed]",
      "text/plain": [
       "<VegaLite 2 object>\n",
       "\n",
       "If you see this message, it means the renderer has not been properly enabled\n",
       "for the frontend that you are using. For more information, see\n",
       "https://altair-viz.github.io/user_guide/troubleshooting.html\n"
      ]
     },
     "execution_count": 18,
     "metadata": {},
     "output_type": "execute_result"
    }
   ],
   "source": [
    "# Plot histograms of the bootstrap samples\n",
    "control_boots = pd.DataFrame({'RPU': control_samples, 'Group': 'Control'})\n",
    "test_boots = pd.DataFrame({'RPU': test_samples, 'Group': 'Test'})\n",
    "bootstraps = pd.concat([control_boots, test_boots])\n",
    "\n",
    "# Get bounds for 95% CIs\n",
    "control_CI = control_boots.quantile([.025, .975])\n",
    "test_CI = test_boots.quantile([.025, .975])\n",
    "CI_df = pd.concat([control_CI, test_CI])\n",
    "CI_df['Group'] = ['Control','Control', 'Test', 'Test']\n",
    "\n",
    "hist = alt.Chart(bootstraps).mark_area(\n",
    "    opacity=0.7,\n",
    "    interpolate='step'\n",
    ").encode(\n",
    "    alt.X('RPU', bin=alt.Bin(maxbins=100)),\n",
    "    alt.Y('count()', stack=None),\n",
    "    color='Group'\n",
    ")\n",
    "\n",
    "bounds = alt.Chart(CI_df).mark_rule().encode(\n",
    "    x=alt.X('RPU:Q', axis=alt.Axis(title='Revenue per User')),\n",
    "    color='Group'\n",
    ")\n",
    "\n",
    "hist + bounds"
   ]
  },
  {
   "cell_type": "markdown",
   "metadata": {},
   "source": [
    "**The plot above shows the distribution of bootstrap samples, along with the bounds of the 95% confidence intervals for each the control and test groups. As is apparent, the confidence intervals for the two groups do not overlap: the difference in average revenue per user is statistically significant.  The price increase in the test group led to significantly higher revenu per user.**"
   ]
  },
  {
   "cell_type": "markdown",
   "metadata": {},
   "source": [
    "### Identify differential effects of price increase by user segment"
   ]
  },
  {
   "cell_type": "code",
   "execution_count": 19,
   "metadata": {},
   "outputs": [
    {
     "data": {
      "text/html": [
       "<div>\n",
       "<style scoped>\n",
       "    .dataframe tbody tr th:only-of-type {\n",
       "        vertical-align: middle;\n",
       "    }\n",
       "\n",
       "    .dataframe tbody tr th {\n",
       "        vertical-align: top;\n",
       "    }\n",
       "\n",
       "    .dataframe thead th {\n",
       "        text-align: right;\n",
       "    }\n",
       "</style>\n",
       "<table border=\"1\" class=\"dataframe\">\n",
       "  <thead>\n",
       "    <tr style=\"text-align: right;\">\n",
       "      <th></th>\n",
       "      <th>user_id</th>\n",
       "      <th>timestamp</th>\n",
       "      <th>source</th>\n",
       "      <th>device</th>\n",
       "      <th>operative_system</th>\n",
       "      <th>test</th>\n",
       "      <th>price</th>\n",
       "      <th>converted</th>\n",
       "    </tr>\n",
       "  </thead>\n",
       "  <tbody>\n",
       "    <tr>\n",
       "      <th>0</th>\n",
       "      <td>604839</td>\n",
       "      <td>2015-05-08 03:38:34</td>\n",
       "      <td>ads_facebook</td>\n",
       "      <td>mobile</td>\n",
       "      <td>iOS</td>\n",
       "      <td>0</td>\n",
       "      <td>39</td>\n",
       "      <td>0</td>\n",
       "    </tr>\n",
       "    <tr>\n",
       "      <th>1</th>\n",
       "      <td>624057</td>\n",
       "      <td>2015-05-10 21:08:46</td>\n",
       "      <td>seo-google</td>\n",
       "      <td>mobile</td>\n",
       "      <td>android</td>\n",
       "      <td>0</td>\n",
       "      <td>39</td>\n",
       "      <td>0</td>\n",
       "    </tr>\n",
       "    <tr>\n",
       "      <th>2</th>\n",
       "      <td>317970</td>\n",
       "      <td>2015-04-04 15:01:23</td>\n",
       "      <td>ads-bing</td>\n",
       "      <td>mobile</td>\n",
       "      <td>android</td>\n",
       "      <td>0</td>\n",
       "      <td>39</td>\n",
       "      <td>0</td>\n",
       "    </tr>\n",
       "    <tr>\n",
       "      <th>3</th>\n",
       "      <td>685636</td>\n",
       "      <td>2015-05-07 07:26:01</td>\n",
       "      <td>direct_traffic</td>\n",
       "      <td>mobile</td>\n",
       "      <td>iOS</td>\n",
       "      <td>1</td>\n",
       "      <td>59</td>\n",
       "      <td>0</td>\n",
       "    </tr>\n",
       "    <tr>\n",
       "      <th>4</th>\n",
       "      <td>820854</td>\n",
       "      <td>2015-05-24 11:04:40</td>\n",
       "      <td>ads_facebook</td>\n",
       "      <td>web</td>\n",
       "      <td>mac</td>\n",
       "      <td>0</td>\n",
       "      <td>39</td>\n",
       "      <td>0</td>\n",
       "    </tr>\n",
       "  </tbody>\n",
       "</table>\n",
       "</div>"
      ],
      "text/plain": [
       "   user_id            timestamp          source  device operative_system  \\\n",
       "0   604839  2015-05-08 03:38:34    ads_facebook  mobile              iOS   \n",
       "1   624057  2015-05-10 21:08:46      seo-google  mobile          android   \n",
       "2   317970  2015-04-04 15:01:23        ads-bing  mobile          android   \n",
       "3   685636  2015-05-07 07:26:01  direct_traffic  mobile              iOS   \n",
       "4   820854  2015-05-24 11:04:40    ads_facebook     web              mac   \n",
       "\n",
       "   test  price  converted  \n",
       "0     0     39          0  \n",
       "1     0     39          0  \n",
       "2     0     39          0  \n",
       "3     1     59          0  \n",
       "4     0     39          0  "
      ]
     },
     "execution_count": 19,
     "metadata": {},
     "output_type": "execute_result"
    }
   ],
   "source": [
    "data.head()"
   ]
  },
  {
   "cell_type": "code",
   "execution_count": 20,
   "metadata": {},
   "outputs": [
    {
     "data": {
      "text/html": [
       "<div>\n",
       "<style scoped>\n",
       "    .dataframe tbody tr th:only-of-type {\n",
       "        vertical-align: middle;\n",
       "    }\n",
       "\n",
       "    .dataframe tbody tr th {\n",
       "        vertical-align: top;\n",
       "    }\n",
       "\n",
       "    .dataframe thead th {\n",
       "        text-align: right;\n",
       "    }\n",
       "</style>\n",
       "<table border=\"1\" class=\"dataframe\">\n",
       "  <thead>\n",
       "    <tr style=\"text-align: right;\">\n",
       "      <th></th>\n",
       "      <th>Test</th>\n",
       "      <th>Converted</th>\n",
       "      <th>Device</th>\n",
       "      <th>Count</th>\n",
       "      <th>Total Revenue</th>\n",
       "      <th>Revenue Per User</th>\n",
       "      <th>Group</th>\n",
       "    </tr>\n",
       "  </thead>\n",
       "  <tbody>\n",
       "    <tr>\n",
       "      <th>2</th>\n",
       "      <td>0</td>\n",
       "      <td>1</td>\n",
       "      <td>mobile</td>\n",
       "      <td>2392</td>\n",
       "      <td>93288</td>\n",
       "      <td>0.775017</td>\n",
       "      <td>Control</td>\n",
       "    </tr>\n",
       "    <tr>\n",
       "      <th>3</th>\n",
       "      <td>0</td>\n",
       "      <td>1</td>\n",
       "      <td>web</td>\n",
       "      <td>1638</td>\n",
       "      <td>63882</td>\n",
       "      <td>0.777645</td>\n",
       "      <td>Control</td>\n",
       "    </tr>\n",
       "    <tr>\n",
       "      <th>6</th>\n",
       "      <td>1</td>\n",
       "      <td>1</td>\n",
       "      <td>mobile</td>\n",
       "      <td>1064</td>\n",
       "      <td>62776</td>\n",
       "      <td>0.952624</td>\n",
       "      <td>Test</td>\n",
       "    </tr>\n",
       "    <tr>\n",
       "      <th>7</th>\n",
       "      <td>1</td>\n",
       "      <td>1</td>\n",
       "      <td>web</td>\n",
       "      <td>708</td>\n",
       "      <td>41772</td>\n",
       "      <td>0.869888</td>\n",
       "      <td>Test</td>\n",
       "    </tr>\n",
       "  </tbody>\n",
       "</table>\n",
       "</div>"
      ],
      "text/plain": [
       "   Test  Converted  Device  Count  Total Revenue Revenue Per User    Group\n",
       "2     0          1  mobile   2392          93288         0.775017  Control\n",
       "3     0          1     web   1638          63882         0.777645  Control\n",
       "6     1          1  mobile   1064          62776         0.952624     Test\n",
       "7     1          1     web    708          41772         0.869888     Test"
      ]
     },
     "execution_count": 20,
     "metadata": {},
     "output_type": "execute_result"
    }
   ],
   "source": [
    "# Conversion and RPU by device\n",
    "devices = data.groupby(['test', 'converted', 'device']).count().user_id.reset_index()\n",
    "users_per_group_device = data.groupby(['test','device']).count().user_id\n",
    "devices.columns = ['Test', 'Converted', 'Device', 'Count']\n",
    "devices['Total Revenue'] = ''\n",
    "devices.loc[devices['Test'] == 0, 'Total Revenue'] = devices.Count.apply(lambda x: x*39)\n",
    "devices.loc[devices['Test'] == 1, 'Total Revenue'] = devices.Count.apply(lambda x: x*59)\n",
    "devices['Revenue Per User'] = ''\n",
    "devices.loc[(devices['Test'] == 0) & (devices['Device'] == 'mobile'), 'Revenue Per User'] = devices['Total Revenue']/users_per_group_device[0][0]\n",
    "devices.loc[(devices['Test'] == 0) & (devices['Device'] == 'web'), 'Revenue Per User'] = devices['Total Revenue']/users_per_group_device[0][1]\n",
    "devices.loc[(devices['Test'] == 1) & (devices['Device'] == 'mobile'), 'Revenue Per User'] = devices['Total Revenue']/users_per_group_device[1][0]\n",
    "devices.loc[(devices['Test'] == 1) & (devices['Device'] == 'web'), 'Revenue Per User'] = devices['Total Revenue']/users_per_group_device[1][1]\n",
    "devices = devices[devices.Converted == 1]\n",
    "devices['Group'] = np.where(devices.Test == 0, 'Control', 'Test')\n",
    "devices.head(10)"
   ]
  },
  {
   "cell_type": "code",
   "execution_count": 22,
   "metadata": {},
   "outputs": [
    {
     "data": {
      "application/vnd.vegalite.v2+json": {
       "$schema": "https://vega.github.io/schema/vega-lite/v2.6.0.json",
       "config": {
        "axis": {
         "domainWidth": 0.8
        },
        "view": {
         "height": 300,
         "stroke": "transparent",
         "width": 400
        }
       },
       "data": {
        "format": {
         "type": "json"
        },
        "url": "altair-data-a2ad021db649fce74188919720b14522.json"
       },
       "encoding": {
        "color": {
         "field": "Device",
         "type": "nominal"
        },
        "column": {
         "field": "Group",
         "type": "nominal"
        },
        "x": {
         "field": "Device",
         "stack": null,
         "type": "nominal"
        },
        "y": {
         "field": "Revenue Per User",
         "type": "quantitative"
        }
       },
       "mark": {
        "stroke": "transparent",
        "type": "bar"
       }
      },
      "image/png": "[encoded data removed]",
      "text/plain": [
       "<VegaLite 2 object>\n",
       "\n",
       "If you see this message, it means the renderer has not been properly enabled\n",
       "for the frontend that you are using. For more information, see\n",
       "https://altair-viz.github.io/user_guide/troubleshooting.html\n"
      ]
     },
     "execution_count": 22,
     "metadata": {},
     "output_type": "execute_result"
    }
   ],
   "source": [
    "alt.Chart(devices).mark_bar(stroke='transparent').encode(\n",
    "    x=alt.X('Device:N', stack=None),\n",
    "    y='Revenue Per User',\n",
    "    color='Device:N',\n",
    "    column='Group'\n",
    ").configure_view(\n",
    "    stroke='transparent'\n",
    ").configure_axis(\n",
    "    domainWidth=0.8\n",
    ")"
   ]
  },
  {
   "cell_type": "markdown",
   "metadata": {},
   "source": [
    "This plot shows us an interaction between device type and RPU: The test price of \\$59 showed increases in RPU for both mobile and web devices, but the increase was more pronounced for web devices. If the price increase is implemented, marketing efforts should target mobile platforms."
   ]
  },
  {
   "cell_type": "code",
   "execution_count": 203,
   "metadata": {},
   "outputs": [
    {
     "data": {
      "text/plain": [
       "65990"
      ]
     },
     "execution_count": 203,
     "metadata": {},
     "output_type": "execute_result"
    }
   ],
   "source": [
    "users_per_group_device[1][0]"
   ]
  },
  {
   "cell_type": "code",
   "execution_count": null,
   "metadata": {},
   "outputs": [],
   "source": []
  }
 ],
 "metadata": {
  "kernelspec": {
   "display_name": "Insight",
   "language": "python",
   "name": "insight"
  },
  "language_info": {
   "codemirror_mode": {
    "name": "ipython",
    "version": 3
   },
   "file_extension": ".py",
   "mimetype": "text/x-python",
   "name": "python",
   "nbconvert_exporter": "python",
   "pygments_lexer": "ipython3",
   "version": "3.6.5"
  }
 },
 "nbformat": 4,
 "nbformat_minor": 2
}
